{
 "cells": [
  {
   "cell_type": "markdown",
   "metadata": {
    "deletable": true,
    "editable": true
   },
   "source": [
    "# Случайные процессы. Прикладной поток.\n",
    "## Практическое задание 7\n",
    "\n",
    "**Правила:**\n",
    "\n",
    "* Выполненную работу нужно отправить на почту `probability.diht@yandex.ru`, указав тему письма `\"[СП17] Фамилия Имя - Задание 7\"`. Квадратные скобки обязательны, внутри них пробела быть не должно. Вместо `Фамилия Имя` нужно подставить свои фамилию и имя.\n",
    "* Прислать нужно ноутбук и его pdf-версию. Названия файлов должны быть такими: `7.N.ipynb` и `7.N.pdf`, где `N` - ваш номер из таблицы с оценками.\n",
    "* При проверке могут быть запущены функции, которые отвечают за генерацию траекторий винеровского процесса.\n",
    "\n",
    "------------------"
   ]
  },
  {
   "cell_type": "code",
   "execution_count": 1,
   "metadata": {
    "collapsed": true,
    "deletable": true,
    "editable": true
   },
   "outputs": [],
   "source": [
    "import numpy as np\n",
    "from scipy.stats import norm\n",
    "import matplotlib.pyplot as plt\n",
    "%matplotlib inline\n",
    "\n",
    "import warnings\n",
    "warnings.simplefilter('ignore')"
   ]
  },
  {
   "cell_type": "markdown",
   "metadata": {
    "deletable": true,
    "editable": true
   },
   "source": [
    "## Регрессия на гауссовских процессах\n",
    "\n",
    "Напомним задачу регрессии. Пусть имеется некоторая функциональная зависимость $y = f(x)$. Для ее оценки проводится серия испытаний в точках $x_1, ..., x_n$, в которых получаются значения $Y_i = f(x_i) + \\varepsilon_i$, где $\\varepsilon_i$ --- случайная ошибка измерений. Задача состоит в том, чтобы по этим наблюдениям оценить зависимость $f$. В курсе статистики мы рассматривали случай линейных функций. Теперь рассмотрим случай, когда $f$ является траекторией некоторого стационарного гауссовского процесса.\n",
    "\n",
    "*Внимание!* Далее происходит смена обозначений на принятые в случайных процессах. Буква $x$ меняется на $t$, а буква $y$ меняется на $x$.\n",
    "\n",
    "Пусть $X = (X_t, t \\in \\mathbb{R})$ --- стационарный гауссовский процесс с нулевой функцией среднего и ковариационной функцией $R(t) = cov(X_t, X_0)$. Даны его измерения $x_1, ..., x_n$ в моменты времени $t_1, ..., t_n$ соответственно. Тогда условное распределение $X_t$ при условии $X_{t_1} = x_1, ..., X_{t_n} = x_n$ является нормальным со средним $r^TC^{-1}\\overrightarrow{x}$ и дисперсией $R(0) - r^TC^{-1}r$, где $C=\\left(R(t_i - t_j)\\right)_{i,j}$, $r=\\left(R(t - t_1), ..., R(t - t_n)\\right)^T$, $\\overrightarrow{x}=\\left(x_1, ..., x_n\\right)^T$.\n",
    "\n",
    "\n",
    "Байесовской оценкой общего вида значения процесса в момент времени $t$ является условное распределение $X_t$ при условии $...$.\n",
    "В качестве точечной оценки обычно берут условное математическое ожидание $\\mathsf{E}\\left(X_t \\left| X_{t_1} = x_1,\\ ...,\\ X_{t_n} = x_n \\right. \\right)$.\n",
    "Кроме того, для каждого $t$ можно построить доверительный интервал для величины $X_t$, зная условную дисперсию.\n",
    "\n",
    "Предположим, что для каждого $t$ построен доверительный интервал для $X_t$ уровня доверия 0.95. Верно ли, что $\\mathsf{P}(\\exists t: \\text{истинное значение $X_t$ не попало в свой доверительный интервал}) \\leqslant 0.05$?\n",
    "\n",
    "<Ответ>"
   ]
  },
  {
   "cell_type": "markdown",
   "metadata": {
    "deletable": true,
    "editable": true
   },
   "source": [
    "Напишите класс регрессии на гауссовских процессах.\n",
    "Интерфейс похож на интерфейс библиотеки `scikit-learn`.\n",
    "\n",
    "Наш класс будет работать для времени из $\\mathbb{R}^d$, а не $\\mathbb{R}$.\n",
    "Почему так можно сделать на основе решенной задачи?\n",
    "\n",
    "<Ответ>\n",
    "\n",
    "При написании класса пользуйтесь `numpy.matrix` для работы с матрицами, либо операцией `@` для объектов `numpy.array`."
   ]
  },
  {
   "cell_type": "code",
   "execution_count": 73,
   "metadata": {
    "collapsed": false
   },
   "outputs": [
    {
     "data": {
      "text/plain": [
       "array([[[ 0,  0,  0],\n",
       "        [-1, -1, -1]],\n",
       "\n",
       "       [[ 1,  1,  1],\n",
       "        [ 0,  0,  0]]])"
      ]
     },
     "execution_count": 73,
     "metadata": {},
     "output_type": "execute_result"
    }
   ],
   "source": [
    "T = np.array([[1, 1, 1], [2, 2, 2]])\n",
    "S = np.array([T[0]] * 2)\n",
    "D = np.array([T[1]] * 2)\n",
    "X = np.reshape(np.array([[S - T], [D - T]]), (2, 2, 3))\n",
    "X"
   ]
  },
  {
   "cell_type": "code",
   "execution_count": 90,
   "metadata": {
    "collapsed": false
   },
   "outputs": [
    {
     "data": {
      "text/plain": [
       "array([[[ 0,  0,  0],\n",
       "        [ 1,  1,  1]],\n",
       "\n",
       "       [[-1, -1, -1],\n",
       "        [ 0,  0,  0]]])"
      ]
     },
     "execution_count": 90,
     "metadata": {},
     "output_type": "execute_result"
    }
   ],
   "source": [
    "T = np.array([[1, 1, 1], [2, 2, 2]])\n",
    "S = np.array([T] * 2)\n",
    "# X = np.reshape(np.array([[S - T], [D - T]]), (2, 2, 3))\n",
    "X = S - [T] * 2\n",
    "Y = np.array(([T] * 2))\n",
    "Z = np.reshape(np.array([T.T] * 2).T, (2, 2, 3))\n",
    "S - Z"
   ]
  },
  {
   "cell_type": "code",
   "execution_count": null,
   "metadata": {
    "collapsed": true,
    "deletable": true,
    "editable": true
   },
   "outputs": [],
   "source": [
    "class GaussianProcessRegression:\n",
    "    \n",
    "    def __init__(self, cov_function):\n",
    "        self.cov_function = cov_function\n",
    "    \n",
    "    \n",
    "    def fit(self, T, X):\n",
    "        ''' \"Обучение\" модели регрессии.\n",
    "                T --- np.array, размерность (n, d): моменты времени, \n",
    "                      в которые проведены измерения\n",
    "                X --- np.array, размерность n: полученные значения процесса\n",
    "        '''\n",
    "        \n",
    "        self.T = T\n",
    "        self.X = X\n",
    "        \n",
    "        \n",
    "        return self\n",
    "        \n",
    "        \n",
    "    def predict(self, T):\n",
    "        ''' Оценка значения процесса. \n",
    "                T --- np.array, размерность (n, d): моменты времени, \n",
    "                      в которые нужно оценить значения. \n",
    "                \n",
    "            Возвращает:\n",
    "                values --- np.array, размерность n: предсказанные \n",
    "                           значения процесса\n",
    "                sigma --- np.array, размерность n: соответствующая дисперсия\n",
    "        '''\n",
    "        \n",
    "        <Вычисления, постарайтесь без циклов>\n",
    "        \n",
    "        return values, sigma"
   ]
  },
  {
   "cell_type": "markdown",
   "metadata": {
    "deletable": true,
    "editable": true
   },
   "source": [
    "Зададим какую-нибудь простую функцию $f(t)$"
   ]
  },
  {
   "cell_type": "code",
   "execution_count": null,
   "metadata": {
    "collapsed": true,
    "deletable": true,
    "editable": true
   },
   "outputs": [],
   "source": [
    "def calc_f(t, a=0.2, b=0.5, c=2):\n",
    "    return np.log(1 + t) + a * t + b * np.sin(c * t)"
   ]
  },
  {
   "cell_type": "markdown",
   "metadata": {
    "deletable": true,
    "editable": true
   },
   "source": [
    "И ковариационную функцию\n",
    "$$R(t) = a\\ exp\\left(\\frac{\\left|\\left| t \\right|\\right|^2} {2s^2} \\right),$$\n",
    "\n",
    "* $t \\in \\mathbb{R}^d$\n",
    "* $a, s > 0$ --- параметры"
   ]
  },
  {
   "cell_type": "code",
   "execution_count": null,
   "metadata": {
    "collapsed": true,
    "deletable": true,
    "editable": true
   },
   "outputs": [],
   "source": [
    "def exp_cov(t, a=1, s=1):\n",
    "    return a * np.exp(-(t ** 2).sum(axis=-1) / (2 * s ** 2))\n",
    "\n",
    "grid = np.linspace(-5, 5, 1001)\n",
    "plt.figure(figsize=(6, 4))\n",
    "plt.plot(grid, exp_cov(grid.reshape((-1, 1))))\n",
    "plt.show()"
   ]
  },
  {
   "cell_type": "markdown",
   "metadata": {
    "deletable": true,
    "editable": true
   },
   "source": [
    "Проведем эксперименты.\n",
    "Зададим гауссовский процесс $(X_t, t\\in\\mathbb{R})$ в виде $X_t = f(t) + \\sigma\\varepsilon_t$, где $(\\varepsilon_t, t\\in\\mathbb{R})$ --- гауссовский белый шум, то есть все $\\varepsilon_t$ независимы и имеют стандартное нормальное распределение.\n",
    "\n",
    "В качестве моментов времени $t_1, ..., t_n$ гененируем несколько точек на прямой.\n",
    "Для начала возьмем $\\sigma=0$, что соответствует отсутствию погрешности измерений.\n",
    "Выполните код ниже."
   ]
  },
  {
   "cell_type": "code",
   "execution_count": null,
   "metadata": {
    "collapsed": false,
    "deletable": true,
    "editable": true
   },
   "outputs": [],
   "source": [
    "plt.figure(figsize=(20, 15))\n",
    "\n",
    "# size --- количество наблюдаемых данных\n",
    "for i, size in enumerate([5, 10, 15, 20, 30, 50]):\n",
    "\n",
    "    # Генерация данных\n",
    "    T = uniform(loc=0, scale=20).rvs(size=size)\n",
    "    X = calc_f(T)\n",
    "    \n",
    "    # Сначала выполните код в этой ячейке с закомментированной строчкой кода.\n",
    "    # Затем скопируйте код в новую ячейку, раскомментируйте строчку и выполните код.\n",
    "    # X += norm(0, 0.3).rvs(X.shape)\n",
    "\n",
    "    # Применение регрессии\n",
    "    gpr = GaussianProcessRegression(exp_cov).fit(T.reshape((-1, 1)), X)\n",
    "    grid = np.linspace(-5, 25, 1000).reshape((-1, 1))\n",
    "    predict, sigma = gpr.predict(grid)\n",
    "    grid, predict, sigma = np.array(grid).ravel(), predict, sigma\n",
    "\n",
    "    # Построение графиков\n",
    "    plt.subplot(3, 2, i + 1)\n",
    "    plt.plot(grid, calc_f(grid), color='red', label='$f(t)$')\n",
    "    plt.plot(grid, predict, color='blue', label='$\\widehat{X}_t$')\n",
    "    plt.fill_between(grid, predict + 2 * sigma, predict - 2 * sigma, \n",
    "                     color='blue', alpha=0.25)\n",
    "    plt.scatter(T, X, color='red', label='$X_t$')\n",
    "    plt.hlines(0, -5, 25, alpha=0.3)\n",
    "    plt.xlim((-5, 25))\n",
    "    plt.ylim((-20, 20))\n",
    "    plt.title('size = {}'.format(size), fontsize=16)\n",
    "    plt.xlabel('time', fontsize=16)\n",
    "    plt.ylabel('value', fontsize=16)\n",
    "    plt.legend(loc=3, ncol=3, fontsize=16)\n",
    "\n",
    "plt.show()"
   ]
  },
  {
   "cell_type": "markdown",
   "metadata": {
    "deletable": true,
    "editable": true
   },
   "source": [
    "Теперь предположим, что измерения проводятся с погрешностью, то есть $\\sigma > 0$. Скопируйте код выше в новую ячейку, раскомментируйте строчку кода и запустите."
   ]
  },
  {
   "cell_type": "code",
   "execution_count": null,
   "metadata": {
    "collapsed": true,
    "deletable": true,
    "editable": true
   },
   "outputs": [],
   "source": [
    "<Код>"
   ]
  },
  {
   "cell_type": "markdown",
   "metadata": {
    "deletable": true,
    "editable": true
   },
   "source": [
    "Почему получается так плохо? Что нужно сделать, чтобы это исправить (обратите внимание на ковариационную функцию)?\n",
    "\n",
    "<ответ>\n",
    "\n",
    "Исправьте это."
   ]
  },
  {
   "cell_type": "code",
   "execution_count": null,
   "metadata": {
    "collapsed": true,
    "deletable": true,
    "editable": true
   },
   "outputs": [],
   "source": [
    "<Исправление>"
   ]
  },
  {
   "cell_type": "code",
   "execution_count": null,
   "metadata": {
    "collapsed": true,
    "deletable": true,
    "editable": true
   },
   "outputs": [],
   "source": [
    "<Нарисуйте тут такие же графики после исправления>"
   ]
  },
  {
   "cell_type": "markdown",
   "metadata": {
    "deletable": true,
    "editable": true
   },
   "source": [
    "Почему стало лучше?\n",
    "\n",
    "<Ответ>\n",
    "\n",
    "Однако, это все равно не поясняет, почему в самом первом случае (при $\\sigma=0$) мог наблюдаться похожий эффект. В чем его причина?\n",
    "\n",
    "<Ответ>"
   ]
  },
  {
   "cell_type": "markdown",
   "metadata": {
    "deletable": true,
    "editable": true
   },
   "source": [
    "Пойдем теперь дальше. Вспомним наше предположение о том, что математическое ожидание равно нулю, хотя на самом деле это не так.\n",
    "Давайте это исправим.\n",
    "В примере выше перед применением регрессии вычтете среднее значение, а после --- добавьте обратно."
   ]
  },
  {
   "cell_type": "code",
   "execution_count": null,
   "metadata": {
    "collapsed": true,
    "deletable": true,
    "editable": true
   },
   "outputs": [],
   "source": [
    "<Код и графики>"
   ]
  },
  {
   "cell_type": "markdown",
   "metadata": {
    "deletable": true,
    "editable": true
   },
   "source": [
    "Лучше, но все равно чего-то не хватает.\n",
    "Может, приблизить линейной регрессией?\n",
    "\n",
    "Проделайте аналогичные действия, построив сначала линейную регрессию, затем вычев ее значения из точек данных перед применением регрессии на гауссовских процессах, а после --- добавив обратно значения линейной регрессии для всех точек, в которых вы хотите построить предсказания."
   ]
  },
  {
   "cell_type": "code",
   "execution_count": null,
   "metadata": {
    "collapsed": true,
    "deletable": true,
    "editable": true
   },
   "outputs": [],
   "source": [
    "<Код и графики>"
   ]
  },
  {
   "cell_type": "markdown",
   "metadata": {
    "deletable": true,
    "editable": true
   },
   "source": [
    "Разберемся подробнее в том, что происходит.\n",
    "\n",
    "Допустим, мы хотим приблизить простую линейную функцию.\n",
    "Построим график выборки и график предсказаний с помощью линейной регрессии.\n",
    "Построим так же график ошибок, то есть точек $X_{t_i} - \\widehat{f}(t_i)$, где $\\widehat{f}$ --- линейная регрессия."
   ]
  },
  {
   "cell_type": "code",
   "execution_count": null,
   "metadata": {
    "collapsed": true,
    "deletable": true,
    "editable": true
   },
   "outputs": [],
   "source": [
    "def f_lin(x):\n",
    "    return x / 2 + 1\n",
    "\n",
    "T = uniform(loc=0, scale=20).rvs(size=100).reshape((-1, 1))\n",
    "X = f_lin(T)\n",
    "X += norm(0, 0.3).rvs(X.shape)\n",
    "\n",
    "grid = np.linspace(-5, 25, 1000).reshape((-1, 1))\n",
    "predict = <оценка с помощью линейной регрессии>\n",
    "\n",
    "# График выборки и линейной регресии\n",
    "plt.figure(figsize=(10, 5))\n",
    "plt.plot(grid, f_lin(grid), color='red', label='$f(t)$')\n",
    "plt.plot(grid, predict, color='blue', label='$\\widehat{f}(t)$')\n",
    "plt.scatter(T, X, color='red', label='$X_t$')\n",
    "plt.xlim((-5, 25))\n",
    "plt.xlabel('time', fontsize=16)\n",
    "plt.ylabel('value', fontsize=16)\n",
    "plt.legend(loc=3, ncol=3, fontsize=16)\n",
    "plt.show()\n",
    "\n",
    "# График ошибок\n",
    "plt.figure(figsize=(10, 5))\n",
    "for i in range(len(T)):\n",
    "    plt.plot([T[i], T[i]], [0, X[i] - lr.predict(T[i])], color='red')\n",
    "    plt.scatter(T[i], X[i] - lr.predict(T[i]), marker='s', color='red')\n",
    "plt.hlines(0, -5, 25, alpha=0.2)\n",
    "plt.xlim((-5, 25))\n",
    "plt.xlabel('time', fontsize=16)\n",
    "plt.ylabel('error', fontsize=16)\n",
    "plt.show()"
   ]
  },
  {
   "cell_type": "markdown",
   "metadata": {
    "deletable": true,
    "editable": true
   },
   "source": [
    "Что можно сказать про остатки?\n",
    "\n",
    "<Ответ>\n",
    "\n",
    "Теперь посмотрим на функцию, с которой мы имели дело ранее."
   ]
  },
  {
   "cell_type": "code",
   "execution_count": null,
   "metadata": {
    "collapsed": true,
    "deletable": true,
    "editable": true
   },
   "outputs": [],
   "source": [
    "<Постройте тут аналогичные графики>"
   ]
  },
  {
   "cell_type": "markdown",
   "metadata": {
    "deletable": true,
    "editable": true
   },
   "source": [
    "Что тут с остатками?\n",
    "\n",
    "<Ответ>\n",
    "\n",
    "Давайте приближать эту зависимость в остатках регрессией на основе гауссовских процессах."
   ]
  },
  {
   "cell_type": "code",
   "execution_count": null,
   "metadata": {
    "collapsed": true,
    "deletable": true,
    "editable": true
   },
   "outputs": [],
   "source": [
    "grid, predict, sigma = <...>\n",
    "\n",
    "plt.figure(figsize=(15, 7))\n",
    "plt.plot(grid, predict, color='blue')\n",
    "plt.fill_between(grid, predict + 2 * sigma, predict - 2 * sigma, \n",
    "                 color='blue', alpha=0.25)\n",
    "for i in range(len(T)):\n",
    "    plt.plot([T[i], T[i]], [0, X[i] - lr.predict(T[i])], color='red')\n",
    "    plt.scatter(T[i], X[i] - lr.predict(T[i]), marker='s', color='red')\n",
    "plt.hlines(0, -5, 25, alpha=0.2)\n",
    "plt.xlim((-5, 25))\n",
    "plt.xlabel('time', fontsize=16)\n",
    "plt.ylabel('value', fontsize=16)\n",
    "plt.show()"
   ]
  },
  {
   "cell_type": "markdown",
   "metadata": {
    "deletable": true,
    "editable": true
   },
   "source": [
    "Сделайте подробные выводы.\n",
    "\n",
    "<Ответ>\n"
   ]
  },
  {
   "cell_type": "markdown",
   "metadata": {
    "deletable": true,
    "editable": true
   },
   "source": [
    "Рассмотрим теперь гауссовский процесс $(X_t, t\\in\\mathbb{R}_+)$, заданный как $X_t = t + W_{t+1} - W_{t}$, где $(W_t, t\\in\\mathbb{R}_+)$ --- винеровский процесс.\n",
    "Сгенерируйте данные в соответствии с этой моделью. Для генерации винеровского процесса используйте код из предыдущего задания. По этим данным постройте комбинацию линейная регрессия + регрессия на гауссовских процессах, как в примерах выше. Как и раньше, проведите эксперимент для различного объема данных."
   ]
  },
  {
   "cell_type": "code",
   "execution_count": null,
   "metadata": {
    "collapsed": true,
    "deletable": true,
    "editable": true
   },
   "outputs": [],
   "source": [
    "<Код и графики>"
   ]
  },
  {
   "cell_type": "markdown",
   "metadata": {
    "deletable": true,
    "editable": true
   },
   "source": [
    "Скачайте датасет <a href=\"http://archive.ics.uci.edu/ml/datasets/Yacht+Hydrodynamics\">Yacht Hydrodynamics</a>.\n",
    "Задача состоит в том, чтобы для парусных яхт предсказать остаточное сопротивление на единицу массы смещения от размеров яхты и ее скорости. Рассмотрим зависимость величины `Residuary resistance` от `Froude number`. Постройте приближение этой зависимости с помощью комбинации линейной регрессии и регрессии на гауссовских процессах. Посчитайте ошибку предсказания и сравните ее с ошибкой предсказания с помощью простой линейной регрессии. Для линейной регрессии можно взять так же вторую и третью степень величины `Residuary resistance`."
   ]
  },
  {
   "cell_type": "markdown",
   "metadata": {
    "deletable": true,
    "editable": true
   },
   "source": [
    "Дополнительно вы можете попробовать <a href=\"http://scikit-learn.org/stable/modules/classes.html#module-sklearn.gaussian_process\">реализацию</a> регрессии на гауссовских процессах в `sklearn`."
   ]
  }
 ],
 "metadata": {
  "kernelspec": {
   "display_name": "Python 3",
   "language": "python",
   "name": "python3"
  },
  "language_info": {
   "codemirror_mode": {
    "name": "ipython",
    "version": 3
   },
   "file_extension": ".py",
   "mimetype": "text/x-python",
   "name": "python",
   "nbconvert_exporter": "python",
   "pygments_lexer": "ipython3",
   "version": "3.5.2"
  }
 },
 "nbformat": 4,
 "nbformat_minor": 1
}
