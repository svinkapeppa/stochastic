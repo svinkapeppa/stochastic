{
 "cells": [
  {
   "cell_type": "code",
   "execution_count": 1,
   "metadata": {
    "collapsed": true,
    "deletable": true,
    "editable": true
   },
   "outputs": [],
   "source": [
    "import numpy as np\n",
    "import pandas as pd\n",
    "import scipy.stats as sps\n",
    "import matplotlib.pyplot as plt\n",
    "import random\n",
    "from tqdm import tqdm\n",
    "from datetime import datetime\n",
    "%matplotlib inline"
   ]
  },
  {
   "cell_type": "code",
   "execution_count": 2,
   "metadata": {
    "collapsed": false,
    "deletable": true,
    "editable": true
   },
   "outputs": [],
   "source": [
    "cols = [0, 3, 7]\n",
    "data = pd.read_csv('UofS_access_log', encoding='cp1251', sep=' ', \n",
    "                   header=None, usecols=cols, error_bad_lines=False)"
   ]
  },
  {
   "cell_type": "markdown",
   "metadata": {
    "deletable": true,
    "editable": true
   },
   "source": [
    "Проверим, что выкинули не очень много строчек с полезными данными:"
   ]
  },
  {
   "cell_type": "code",
   "execution_count": 3,
   "metadata": {
    "collapsed": false,
    "deletable": true,
    "editable": true
   },
   "outputs": [
    {
     "name": "stdout",
     "output_type": "stream",
     "text": [
      "Доля удаленных строк:  0.0\n"
     ]
    }
   ],
   "source": [
    "size = 2408625 # Число строк в оригинальном файле\n",
    "print('Доля удаленных строк: ', (size - data.size / len(data.columns)) / size)"
   ]
  },
  {
   "cell_type": "markdown",
   "metadata": {
    "deletable": true,
    "editable": true
   },
   "source": [
    "Так как эта доля много меньше единицы, то можем продолжать."
   ]
  },
  {
   "cell_type": "code",
   "execution_count": 4,
   "metadata": {
    "collapsed": false,
    "deletable": true,
    "editable": true
   },
   "outputs": [],
   "source": [
    "data.rename(columns={0:'host', 3:'date', 7:'bytes'}, inplace=True)"
   ]
  },
  {
   "cell_type": "markdown",
   "metadata": {
    "deletable": true,
    "editable": true
   },
   "source": [
    "Проверим, что сейчас во всех строчках что-то написано (т.е. что данные корректны и больше ничего не надо удалять)"
   ]
  },
  {
   "cell_type": "code",
   "execution_count": 5,
   "metadata": {
    "collapsed": false,
    "deletable": true,
    "editable": true
   },
   "outputs": [],
   "source": [
    "rows_number = int(data.size / 3)"
   ]
  },
  {
   "cell_type": "code",
   "execution_count": 6,
   "metadata": {
    "collapsed": false,
    "deletable": true,
    "editable": true
   },
   "outputs": [
    {
     "data": {
      "text/html": [
       "<div>\n",
       "<table border=\"1\" class=\"dataframe\">\n",
       "  <thead>\n",
       "    <tr style=\"text-align: right;\">\n",
       "      <th></th>\n",
       "      <th>host</th>\n",
       "      <th>date</th>\n",
       "      <th>bytes</th>\n",
       "    </tr>\n",
       "  </thead>\n",
       "  <tbody>\n",
       "    <tr>\n",
       "      <th>1229616</th>\n",
       "      <td>maz3.maz.net</td>\n",
       "      <td>[11/Oa67220.dial.tip.net</td>\n",
       "      <td>-0600]</td>\n",
       "    </tr>\n",
       "    <tr>\n",
       "      <th>1242666</th>\n",
       "      <td>129.186.123.55</td>\n",
       "      <td>[12/Oct/1995ag5881.usask.ca</td>\n",
       "      <td>-0600]</td>\n",
       "    </tr>\n",
       "    <tr>\n",
       "      <th>2099490</th>\n",
       "      <td>ppp-4.pbmo.net</td>\n",
       "      <td>Thomas</td>\n",
       "      <td>500</td>\n",
       "    </tr>\n",
       "    <tr>\n",
       "      <th>2099556</th>\n",
       "      <td>ppp-4.pbmo.net</td>\n",
       "      <td>Thomas</td>\n",
       "      <td>500</td>\n",
       "    </tr>\n",
       "    <tr>\n",
       "      <th>2099559</th>\n",
       "      <td>ppp-4.pbmo.net</td>\n",
       "      <td>Thomas</td>\n",
       "      <td>500</td>\n",
       "    </tr>\n",
       "  </tbody>\n",
       "</table>\n",
       "</div>"
      ],
      "text/plain": [
       "                   host                         date   bytes\n",
       "1229616    maz3.maz.net     [11/Oa67220.dial.tip.net  -0600]\n",
       "1242666  129.186.123.55  [12/Oct/1995ag5881.usask.ca  -0600]\n",
       "2099490  ppp-4.pbmo.net                       Thomas     500\n",
       "2099556  ppp-4.pbmo.net                       Thomas     500\n",
       "2099559  ppp-4.pbmo.net                       Thomas     500"
      ]
     },
     "execution_count": 6,
     "metadata": {},
     "output_type": "execute_result"
    }
   ],
   "source": [
    "data.loc[data.date.str.contains('\\[../.*./....:..:..:..') == False]"
   ]
  },
  {
   "cell_type": "code",
   "execution_count": 7,
   "metadata": {
    "collapsed": false,
    "deletable": true,
    "editable": true
   },
   "outputs": [],
   "source": [
    "data = data.drop(1229616)\n",
    "data = data.drop(1242666)\n",
    "data = data.drop(2099490)\n",
    "data = data.drop(2099556)\n",
    "data = data.drop(2099559)"
   ]
  },
  {
   "cell_type": "markdown",
   "metadata": {
    "deletable": true,
    "editable": true
   },
   "source": [
    "Удалили все плохие строчки. Их всего пять, то есть они не сильно увеличат долю удаленных данных."
   ]
  },
  {
   "cell_type": "code",
   "execution_count": 8,
   "metadata": {
    "collapsed": false,
    "deletable": true,
    "editable": true
   },
   "outputs": [
    {
     "data": {
      "text/html": [
       "<div>\n",
       "<table border=\"1\" class=\"dataframe\">\n",
       "  <thead>\n",
       "    <tr style=\"text-align: right;\">\n",
       "      <th></th>\n",
       "      <th>host</th>\n",
       "      <th>date</th>\n",
       "      <th>bytes</th>\n",
       "    </tr>\n",
       "  </thead>\n",
       "  <tbody>\n",
       "    <tr>\n",
       "      <th>0</th>\n",
       "      <td>202.32.92.47</td>\n",
       "      <td>[01/Jun/1995:00:00:59</td>\n",
       "      <td>271</td>\n",
       "    </tr>\n",
       "    <tr>\n",
       "      <th>1</th>\n",
       "      <td>ix-or7-27.ix.netcom.com</td>\n",
       "      <td>[01/Jun/1995:00:02:51</td>\n",
       "      <td>205908</td>\n",
       "    </tr>\n",
       "    <tr>\n",
       "      <th>2</th>\n",
       "      <td>ram0.huji.ac.il</td>\n",
       "      <td>[01/Jun/1995:00:05:44</td>\n",
       "      <td>271</td>\n",
       "    </tr>\n",
       "    <tr>\n",
       "      <th>3</th>\n",
       "      <td>eagle40.sasknet.sk.ca</td>\n",
       "      <td>[01/Jun/1995:00:08:06</td>\n",
       "      <td>1116</td>\n",
       "    </tr>\n",
       "    <tr>\n",
       "      <th>4</th>\n",
       "      <td>eagle40.sasknet.sk.ca</td>\n",
       "      <td>[01/Jun/1995:00:08:19</td>\n",
       "      <td>49649</td>\n",
       "    </tr>\n",
       "    <tr>\n",
       "      <th>5</th>\n",
       "      <td>cdc8g5.cdc.polimi.it</td>\n",
       "      <td>[01/Jun/1995:00:11:03</td>\n",
       "      <td>461</td>\n",
       "    </tr>\n",
       "    <tr>\n",
       "      <th>6</th>\n",
       "      <td>freenet2.carleton.ca</td>\n",
       "      <td>[01/Jun/1995:00:16:54</td>\n",
       "      <td>5759</td>\n",
       "    </tr>\n",
       "    <tr>\n",
       "      <th>7</th>\n",
       "      <td>red.weeg.uiowa.edu</td>\n",
       "      <td>[01/Jun/1995:00:18:14</td>\n",
       "      <td>461</td>\n",
       "    </tr>\n",
       "    <tr>\n",
       "      <th>8</th>\n",
       "      <td>interchg.ubc.ca</td>\n",
       "      <td>[01/Jun/1995:00:23:53</td>\n",
       "      <td>2460</td>\n",
       "    </tr>\n",
       "    <tr>\n",
       "      <th>9</th>\n",
       "      <td>interchg.ubc.ca</td>\n",
       "      <td>[01/Jun/1995:00:24:17</td>\n",
       "      <td>2570</td>\n",
       "    </tr>\n",
       "    <tr>\n",
       "      <th>10</th>\n",
       "      <td>interchg.ubc.ca</td>\n",
       "      <td>[01/Jun/1995:00:24:59</td>\n",
       "      <td>691</td>\n",
       "    </tr>\n",
       "    <tr>\n",
       "      <th>11</th>\n",
       "      <td>interchg.ubc.ca</td>\n",
       "      <td>[01/Jun/1995:00:25:16</td>\n",
       "      <td>1426</td>\n",
       "    </tr>\n",
       "    <tr>\n",
       "      <th>12</th>\n",
       "      <td>info.curtin.edu.au</td>\n",
       "      <td>[01/Jun/1995:00:25:25</td>\n",
       "      <td>271</td>\n",
       "    </tr>\n",
       "    <tr>\n",
       "      <th>13</th>\n",
       "      <td>yanafal.tele.nokia.fi</td>\n",
       "      <td>[01/Jun/1995:00:26:31</td>\n",
       "      <td>271</td>\n",
       "    </tr>\n",
       "    <tr>\n",
       "      <th>14</th>\n",
       "      <td>130.54.25.198</td>\n",
       "      <td>[01/Jun/1995:00:28:36</td>\n",
       "      <td>9651</td>\n",
       "    </tr>\n",
       "    <tr>\n",
       "      <th>15</th>\n",
       "      <td>128.171.197.73</td>\n",
       "      <td>[01/Jun/1995:00:34:50</td>\n",
       "      <td>29106</td>\n",
       "    </tr>\n",
       "    <tr>\n",
       "      <th>16</th>\n",
       "      <td>130.54.25.198</td>\n",
       "      <td>[01/Jun/1995:00:35:01</td>\n",
       "      <td>2042</td>\n",
       "    </tr>\n",
       "    <tr>\n",
       "      <th>17</th>\n",
       "      <td>corvas.cts.com</td>\n",
       "      <td>[01/Jun/1995:00:44:38</td>\n",
       "      <td>6622</td>\n",
       "    </tr>\n",
       "    <tr>\n",
       "      <th>18</th>\n",
       "      <td>corvas.cts.com</td>\n",
       "      <td>[01/Jun/1995:00:44:43</td>\n",
       "      <td>3274</td>\n",
       "    </tr>\n",
       "    <tr>\n",
       "      <th>19</th>\n",
       "      <td>corvas.cts.com</td>\n",
       "      <td>[01/Jun/1995:00:44:44</td>\n",
       "      <td>1016</td>\n",
       "    </tr>\n",
       "    <tr>\n",
       "      <th>20</th>\n",
       "      <td>corvas.cts.com</td>\n",
       "      <td>[01/Jun/1995:00:44:46</td>\n",
       "      <td>165</td>\n",
       "    </tr>\n",
       "    <tr>\n",
       "      <th>21</th>\n",
       "      <td>corvas.cts.com</td>\n",
       "      <td>[01/Jun/1995:00:44:51</td>\n",
       "      <td>1017</td>\n",
       "    </tr>\n",
       "    <tr>\n",
       "      <th>22</th>\n",
       "      <td>corvas.cts.com</td>\n",
       "      <td>[01/Jun/1995:00:44:54</td>\n",
       "      <td>1016</td>\n",
       "    </tr>\n",
       "    <tr>\n",
       "      <th>23</th>\n",
       "      <td>corvas.cts.com</td>\n",
       "      <td>[01/Jun/1995:00:44:58</td>\n",
       "      <td>1324</td>\n",
       "    </tr>\n",
       "    <tr>\n",
       "      <th>24</th>\n",
       "      <td>corvas.cts.com</td>\n",
       "      <td>[01/Jun/1995:00:44:59</td>\n",
       "      <td>1075</td>\n",
       "    </tr>\n",
       "    <tr>\n",
       "      <th>25</th>\n",
       "      <td>cad49.cadvision.com</td>\n",
       "      <td>[01/Jun/1995:00:49:11</td>\n",
       "      <td>1090</td>\n",
       "    </tr>\n",
       "    <tr>\n",
       "      <th>26</th>\n",
       "      <td>cad49.cadvision.com</td>\n",
       "      <td>[01/Jun/1995:00:49:13</td>\n",
       "      <td>214</td>\n",
       "    </tr>\n",
       "    <tr>\n",
       "      <th>27</th>\n",
       "      <td>cad49.cadvision.com</td>\n",
       "      <td>[01/Jun/1995:00:49:13</td>\n",
       "      <td>210</td>\n",
       "    </tr>\n",
       "    <tr>\n",
       "      <th>28</th>\n",
       "      <td>cad49.cadvision.com</td>\n",
       "      <td>[01/Jun/1995:00:49:33</td>\n",
       "      <td>1402</td>\n",
       "    </tr>\n",
       "    <tr>\n",
       "      <th>29</th>\n",
       "      <td>cad49.cadvision.com</td>\n",
       "      <td>[01/Jun/1995:00:49:43</td>\n",
       "      <td>1224</td>\n",
       "    </tr>\n",
       "    <tr>\n",
       "      <th>...</th>\n",
       "      <td>...</td>\n",
       "      <td>...</td>\n",
       "      <td>...</td>\n",
       "    </tr>\n",
       "    <tr>\n",
       "      <th>2408595</th>\n",
       "      <td>gort.vuse.vanderbilt.edu</td>\n",
       "      <td>[31/Dec/1995:23:42:05</td>\n",
       "      <td>954</td>\n",
       "    </tr>\n",
       "    <tr>\n",
       "      <th>2408596</th>\n",
       "      <td>freenet.buffalo.edu</td>\n",
       "      <td>[31/Dec/1995:23:42:39</td>\n",
       "      <td>23067</td>\n",
       "    </tr>\n",
       "    <tr>\n",
       "      <th>2408597</th>\n",
       "      <td>slip3.nashville.com</td>\n",
       "      <td>[31/Dec/1995:23:42:56</td>\n",
       "      <td>15214</td>\n",
       "    </tr>\n",
       "    <tr>\n",
       "      <th>2408598</th>\n",
       "      <td>slip3.nashville.com</td>\n",
       "      <td>[31/Dec/1995:23:43:00</td>\n",
       "      <td>1135</td>\n",
       "    </tr>\n",
       "    <tr>\n",
       "      <th>2408599</th>\n",
       "      <td>double-tree.ericsson.se</td>\n",
       "      <td>[31/Dec/1995:23:44:25</td>\n",
       "      <td>24744</td>\n",
       "    </tr>\n",
       "    <tr>\n",
       "      <th>2408600</th>\n",
       "      <td>freenet.buffalo.edu</td>\n",
       "      <td>[31/Dec/1995:23:44:28</td>\n",
       "      <td>23067</td>\n",
       "    </tr>\n",
       "    <tr>\n",
       "      <th>2408601</th>\n",
       "      <td>moondog.usask.ca</td>\n",
       "      <td>[31/Dec/1995:23:44:53</td>\n",
       "      <td>1271</td>\n",
       "    </tr>\n",
       "    <tr>\n",
       "      <th>2408602</th>\n",
       "      <td>moondog.usask.ca</td>\n",
       "      <td>[31/Dec/1995:23:44:55</td>\n",
       "      <td>2271</td>\n",
       "    </tr>\n",
       "    <tr>\n",
       "      <th>2408603</th>\n",
       "      <td>206.101.97.100</td>\n",
       "      <td>[31/Dec/1995:23:44:58</td>\n",
       "      <td>3890</td>\n",
       "    </tr>\n",
       "    <tr>\n",
       "      <th>2408604</th>\n",
       "      <td>moondog.usask.ca</td>\n",
       "      <td>[31/Dec/1995:23:44:59</td>\n",
       "      <td>1271</td>\n",
       "    </tr>\n",
       "    <tr>\n",
       "      <th>2408605</th>\n",
       "      <td>moondog.usask.ca</td>\n",
       "      <td>[31/Dec/1995:23:44:59</td>\n",
       "      <td>4105</td>\n",
       "    </tr>\n",
       "    <tr>\n",
       "      <th>2408606</th>\n",
       "      <td>freenet.buffalo.edu</td>\n",
       "      <td>[31/Dec/1995:23:45:01</td>\n",
       "      <td>23067</td>\n",
       "    </tr>\n",
       "    <tr>\n",
       "      <th>2408607</th>\n",
       "      <td>199.78.224.15</td>\n",
       "      <td>[31/Dec/1995:23:47:20</td>\n",
       "      <td>0</td>\n",
       "    </tr>\n",
       "    <tr>\n",
       "      <th>2408608</th>\n",
       "      <td>broadway.sfn.saskatoon.sk.ca</td>\n",
       "      <td>[31/Dec/1995:23:48:35</td>\n",
       "      <td>1838</td>\n",
       "    </tr>\n",
       "    <tr>\n",
       "      <th>2408609</th>\n",
       "      <td>broadway.sfn.saskatoon.sk.ca</td>\n",
       "      <td>[31/Dec/1995:23:48:53</td>\n",
       "      <td>3890</td>\n",
       "    </tr>\n",
       "    <tr>\n",
       "      <th>2408610</th>\n",
       "      <td>broadway.sfn.saskatoon.sk.ca</td>\n",
       "      <td>[31/Dec/1995:23:49:13</td>\n",
       "      <td>1775</td>\n",
       "    </tr>\n",
       "    <tr>\n",
       "      <th>2408611</th>\n",
       "      <td>www.gnofn.org</td>\n",
       "      <td>[31/Dec/1995:23:49:31</td>\n",
       "      <td>23067</td>\n",
       "    </tr>\n",
       "    <tr>\n",
       "      <th>2408612</th>\n",
       "      <td>broadway.sfn.saskatoon.sk.ca</td>\n",
       "      <td>[31/Dec/1995:23:50:01</td>\n",
       "      <td>1896</td>\n",
       "    </tr>\n",
       "    <tr>\n",
       "      <th>2408613</th>\n",
       "      <td>broadway.sfn.saskatoon.sk.ca</td>\n",
       "      <td>[31/Dec/1995:23:50:55</td>\n",
       "      <td>2316</td>\n",
       "    </tr>\n",
       "    <tr>\n",
       "      <th>2408614</th>\n",
       "      <td>broadway.sfn.saskatoon.sk.ca</td>\n",
       "      <td>[31/Dec/1995:23:51:32</td>\n",
       "      <td>3890</td>\n",
       "    </tr>\n",
       "    <tr>\n",
       "      <th>2408615</th>\n",
       "      <td>crimpshrine.atext.com</td>\n",
       "      <td>[31/Dec/1995:23:53:48</td>\n",
       "      <td>3031</td>\n",
       "    </tr>\n",
       "    <tr>\n",
       "      <th>2408616</th>\n",
       "      <td>ppp06.ionline.net</td>\n",
       "      <td>[31/Dec/1995:23:55:01</td>\n",
       "      <td>23067</td>\n",
       "    </tr>\n",
       "    <tr>\n",
       "      <th>2408617</th>\n",
       "      <td>ppp06.ionline.net</td>\n",
       "      <td>[31/Dec/1995:23:55:03</td>\n",
       "      <td>2164</td>\n",
       "    </tr>\n",
       "    <tr>\n",
       "      <th>2408618</th>\n",
       "      <td>ns.netcenter.net</td>\n",
       "      <td>[31/Dec/1995:23:55:19</td>\n",
       "      <td>23067</td>\n",
       "    </tr>\n",
       "    <tr>\n",
       "      <th>2408619</th>\n",
       "      <td>freenet.buffalo.edu</td>\n",
       "      <td>[31/Dec/1995:23:56:17</td>\n",
       "      <td>23067</td>\n",
       "    </tr>\n",
       "    <tr>\n",
       "      <th>2408620</th>\n",
       "      <td>ix-oly-wa2-11.ix.netcom.com</td>\n",
       "      <td>[31/Dec/1995:23:57:00</td>\n",
       "      <td>271</td>\n",
       "    </tr>\n",
       "    <tr>\n",
       "      <th>2408621</th>\n",
       "      <td>freenet.npiec.on.ca</td>\n",
       "      <td>[31/Dec/1995:23:58:06</td>\n",
       "      <td>23067</td>\n",
       "    </tr>\n",
       "    <tr>\n",
       "      <th>2408622</th>\n",
       "      <td>moondog.usask.ca</td>\n",
       "      <td>[31/Dec/1995:23:58:29</td>\n",
       "      <td>3890</td>\n",
       "    </tr>\n",
       "    <tr>\n",
       "      <th>2408623</th>\n",
       "      <td>moondog.usask.ca</td>\n",
       "      <td>[31/Dec/1995:23:58:37</td>\n",
       "      <td>1838</td>\n",
       "    </tr>\n",
       "    <tr>\n",
       "      <th>2408624</th>\n",
       "      <td>ns1.maf.mobile.al.us</td>\n",
       "      <td>[31/Dec/1995:23:59:28</td>\n",
       "      <td>23067</td>\n",
       "    </tr>\n",
       "  </tbody>\n",
       "</table>\n",
       "<p>2408620 rows × 3 columns</p>\n",
       "</div>"
      ],
      "text/plain": [
       "                                 host                   date   bytes\n",
       "0                        202.32.92.47  [01/Jun/1995:00:00:59     271\n",
       "1             ix-or7-27.ix.netcom.com  [01/Jun/1995:00:02:51  205908\n",
       "2                     ram0.huji.ac.il  [01/Jun/1995:00:05:44     271\n",
       "3               eagle40.sasknet.sk.ca  [01/Jun/1995:00:08:06    1116\n",
       "4               eagle40.sasknet.sk.ca  [01/Jun/1995:00:08:19   49649\n",
       "5                cdc8g5.cdc.polimi.it  [01/Jun/1995:00:11:03     461\n",
       "6                freenet2.carleton.ca  [01/Jun/1995:00:16:54    5759\n",
       "7                  red.weeg.uiowa.edu  [01/Jun/1995:00:18:14     461\n",
       "8                     interchg.ubc.ca  [01/Jun/1995:00:23:53    2460\n",
       "9                     interchg.ubc.ca  [01/Jun/1995:00:24:17    2570\n",
       "10                    interchg.ubc.ca  [01/Jun/1995:00:24:59     691\n",
       "11                    interchg.ubc.ca  [01/Jun/1995:00:25:16    1426\n",
       "12                 info.curtin.edu.au  [01/Jun/1995:00:25:25     271\n",
       "13              yanafal.tele.nokia.fi  [01/Jun/1995:00:26:31     271\n",
       "14                      130.54.25.198  [01/Jun/1995:00:28:36    9651\n",
       "15                     128.171.197.73  [01/Jun/1995:00:34:50   29106\n",
       "16                      130.54.25.198  [01/Jun/1995:00:35:01    2042\n",
       "17                     corvas.cts.com  [01/Jun/1995:00:44:38    6622\n",
       "18                     corvas.cts.com  [01/Jun/1995:00:44:43    3274\n",
       "19                     corvas.cts.com  [01/Jun/1995:00:44:44    1016\n",
       "20                     corvas.cts.com  [01/Jun/1995:00:44:46     165\n",
       "21                     corvas.cts.com  [01/Jun/1995:00:44:51    1017\n",
       "22                     corvas.cts.com  [01/Jun/1995:00:44:54    1016\n",
       "23                     corvas.cts.com  [01/Jun/1995:00:44:58    1324\n",
       "24                     corvas.cts.com  [01/Jun/1995:00:44:59    1075\n",
       "25                cad49.cadvision.com  [01/Jun/1995:00:49:11    1090\n",
       "26                cad49.cadvision.com  [01/Jun/1995:00:49:13     214\n",
       "27                cad49.cadvision.com  [01/Jun/1995:00:49:13     210\n",
       "28                cad49.cadvision.com  [01/Jun/1995:00:49:33    1402\n",
       "29                cad49.cadvision.com  [01/Jun/1995:00:49:43    1224\n",
       "...                               ...                    ...     ...\n",
       "2408595      gort.vuse.vanderbilt.edu  [31/Dec/1995:23:42:05     954\n",
       "2408596           freenet.buffalo.edu  [31/Dec/1995:23:42:39   23067\n",
       "2408597           slip3.nashville.com  [31/Dec/1995:23:42:56   15214\n",
       "2408598           slip3.nashville.com  [31/Dec/1995:23:43:00    1135\n",
       "2408599       double-tree.ericsson.se  [31/Dec/1995:23:44:25   24744\n",
       "2408600           freenet.buffalo.edu  [31/Dec/1995:23:44:28   23067\n",
       "2408601              moondog.usask.ca  [31/Dec/1995:23:44:53    1271\n",
       "2408602              moondog.usask.ca  [31/Dec/1995:23:44:55    2271\n",
       "2408603                206.101.97.100  [31/Dec/1995:23:44:58    3890\n",
       "2408604              moondog.usask.ca  [31/Dec/1995:23:44:59    1271\n",
       "2408605              moondog.usask.ca  [31/Dec/1995:23:44:59    4105\n",
       "2408606           freenet.buffalo.edu  [31/Dec/1995:23:45:01   23067\n",
       "2408607                 199.78.224.15  [31/Dec/1995:23:47:20       0\n",
       "2408608  broadway.sfn.saskatoon.sk.ca  [31/Dec/1995:23:48:35    1838\n",
       "2408609  broadway.sfn.saskatoon.sk.ca  [31/Dec/1995:23:48:53    3890\n",
       "2408610  broadway.sfn.saskatoon.sk.ca  [31/Dec/1995:23:49:13    1775\n",
       "2408611                 www.gnofn.org  [31/Dec/1995:23:49:31   23067\n",
       "2408612  broadway.sfn.saskatoon.sk.ca  [31/Dec/1995:23:50:01    1896\n",
       "2408613  broadway.sfn.saskatoon.sk.ca  [31/Dec/1995:23:50:55    2316\n",
       "2408614  broadway.sfn.saskatoon.sk.ca  [31/Dec/1995:23:51:32    3890\n",
       "2408615         crimpshrine.atext.com  [31/Dec/1995:23:53:48    3031\n",
       "2408616             ppp06.ionline.net  [31/Dec/1995:23:55:01   23067\n",
       "2408617             ppp06.ionline.net  [31/Dec/1995:23:55:03    2164\n",
       "2408618              ns.netcenter.net  [31/Dec/1995:23:55:19   23067\n",
       "2408619           freenet.buffalo.edu  [31/Dec/1995:23:56:17   23067\n",
       "2408620   ix-oly-wa2-11.ix.netcom.com  [31/Dec/1995:23:57:00     271\n",
       "2408621           freenet.npiec.on.ca  [31/Dec/1995:23:58:06   23067\n",
       "2408622              moondog.usask.ca  [31/Dec/1995:23:58:29    3890\n",
       "2408623              moondog.usask.ca  [31/Dec/1995:23:58:37    1838\n",
       "2408624          ns1.maf.mobile.al.us  [31/Dec/1995:23:59:28   23067\n",
       "\n",
       "[2408620 rows x 3 columns]"
      ]
     },
     "execution_count": 8,
     "metadata": {},
     "output_type": "execute_result"
    }
   ],
   "source": [
    "data"
   ]
  },
  {
   "cell_type": "markdown",
   "metadata": {
    "deletable": true,
    "editable": true
   },
   "source": [
    "Итак, можно проводить исследование."
   ]
  },
  {
   "cell_type": "code",
   "execution_count": 9,
   "metadata": {
    "collapsed": false,
    "deletable": true,
    "editable": true
   },
   "outputs": [],
   "source": [
    "indexes = list(range(rows_number))\n",
    "indexes.remove(1229616)\n",
    "indexes.remove(1242666)\n",
    "indexes.remove(2099490)\n",
    "indexes.remove(2099556)\n",
    "indexes.remove(2099559)\n",
    "indexes = np.array(indexes)\n",
    "times = [datetime.strptime(data['date'][i], \"[%d/%b/%Y:%H:%M:%S\").timestamp() for i in indexes]"
   ]
  },
  {
   "cell_type": "markdown",
   "metadata": {
    "deletable": true,
    "editable": true
   },
   "source": [
    "## Пуассоновский процесс"
   ]
  },
  {
   "cell_type": "code",
   "execution_count": 10,
   "metadata": {
    "collapsed": false,
    "deletable": true,
    "editable": true
   },
   "outputs": [],
   "source": [
    "times = np.array(times)\n",
    "\n",
    "corr_times = times - np.min(times) # Хотим, чтобы время начиналось с нуля"
   ]
  },
  {
   "cell_type": "code",
   "execution_count": 11,
   "metadata": {
    "collapsed": false,
    "deletable": true,
    "editable": true
   },
   "outputs": [
    {
     "data": {
      "image/png": "[encoded data removed]",
      "text/plain": [
       "<matplotlib.figure.Figure at 0x7f3eab737208>"
      ]
     },
     "metadata": {},
     "output_type": "display_data"
    }
   ],
   "source": [
    "plt.figure(figsize=(15, 7))\n",
    "for i in range(100 - 1):\n",
    "    plt.hlines(i, corr_times[i], corr_times[i+1], lw=3, color='blue')\n",
    "plt.grid(ls=':')\n",
    "plt.xticks(fontsize=20)\n",
    "plt.yticks(range(0, 101, 10), fontsize=20)\n",
    "\n",
    "plt.title('Первые 100 событий',\n",
    "          fontsize=20)\n",
    "plt.xlabel('Время', fontsize=20)\n",
    "plt.ylabel('Количество событий', fontsize=20)\n",
    "plt.show()"
   ]
  },
  {
   "cell_type": "code",
   "execution_count": 12,
   "metadata": {
    "collapsed": false,
    "deletable": true,
    "editable": true,
    "scrolled": false
   },
   "outputs": [
    {
     "data": {
      "image/png": "[encoded data removed]",
      "text/plain": [
       "<matplotlib.figure.Figure at 0x7f3eab5b91d0>"
      ]
     },
     "metadata": {},
     "output_type": "display_data"
    }
   ],
   "source": [
    "plt.figure(figsize=(15, 7))\n",
    "for i in range(1000 - 1):\n",
    "    plt.hlines(i, corr_times[i], corr_times[i+1], lw=3, color='blue')\n",
    "plt.grid(ls=':')\n",
    "plt.xticks(fontsize=20)\n",
    "plt.yticks(range(0, 1001, 100), fontsize=20)\n",
    "\n",
    "plt.title('Первые 1000 событий',\n",
    "          fontsize=20)\n",
    "plt.xlabel('Время', fontsize=20)\n",
    "plt.ylabel('Количество событий', fontsize=20)\n",
    "plt.show()"
   ]
  },
  {
   "cell_type": "code",
   "execution_count": 13,
   "metadata": {
    "collapsed": false,
    "deletable": true,
    "editable": true
   },
   "outputs": [
    {
     "data": {
      "image/png": "[encoded data removed]",
      "text/plain": [
       "<matplotlib.figure.Figure at 0x7f3eab5b9c50>"
      ]
     },
     "metadata": {},
     "output_type": "display_data"
    }
   ],
   "source": [
    "plt.figure(figsize=(15, 7))\n",
    "plt.plot(corr_times, range(len(corr_times)), lw=3, color='blue')\n",
    "plt.grid(ls=':')\n",
    "plt.xticks(fontsize=20)\n",
    "plt.yticks(range(0, len(corr_times) + 1, int(len(corr_times) / 10)), fontsize=20)\n",
    "\n",
    "plt.title('Примерный график всего процесса', fontsize=20)\n",
    "plt.xlabel('Время', fontsize=20)\n",
    "plt.ylabel('Количество событий', fontsize=20)\n",
    "plt.show()"
   ]
  },
  {
   "cell_type": "markdown",
   "metadata": {
    "deletable": true,
    "editable": true
   },
   "source": [
    "## Составной пуассоновский процесс"
   ]
  },
  {
   "cell_type": "code",
   "execution_count": 14,
   "metadata": {
    "collapsed": false,
    "deletable": true,
    "editable": true
   },
   "outputs": [],
   "source": [
    "byte = [int(data['bytes'][i]) if data['bytes'][i] is not '-' else 0 for i in indexes]"
   ]
  },
  {
   "cell_type": "code",
   "execution_count": 38,
   "metadata": {
    "collapsed": false,
    "deletable": true,
    "editable": true
   },
   "outputs": [],
   "source": [
    "xi = [0]\n",
    "for i in range(100):\n",
    "    xi.append(byte[i])\n",
    "jumps = np.cumsum(xi)"
   ]
  },
  {
   "cell_type": "code",
   "execution_count": 39,
   "metadata": {
    "collapsed": false,
    "deletable": true,
    "editable": true
   },
   "outputs": [
    {
     "data": {
      "image/png": "[encoded data removed]",
      "text/plain": [
       "<matplotlib.figure.Figure at 0x7f3e9596f438>"
      ]
     },
     "metadata": {},
     "output_type": "display_data"
    }
   ],
   "source": [
    "plt.figure(figsize=(15, 7))\n",
    "for i in range(100 - 1):\n",
    "    plt.hlines(jumps[i], corr_times[i], corr_times[i+1], lw=3, color='blue')\n",
    "plt.grid(ls=':')\n",
    "\n",
    "plt.title('Первые 100 событий',\n",
    "          fontsize=20)\n",
    "plt.xlabel('Время', fontsize=20)\n",
    "plt.ylabel('Bytes', fontsize=20)\n",
    "plt.show()"
   ]
  },
  {
   "cell_type": "code",
   "execution_count": 40,
   "metadata": {
    "collapsed": false,
    "deletable": true,
    "editable": true
   },
   "outputs": [],
   "source": [
    "xi = [0]\n",
    "for i in range(1000):\n",
    "    xi.append(byte[i])\n",
    "jumps = np.cumsum(xi)"
   ]
  },
  {
   "cell_type": "code",
   "execution_count": 42,
   "metadata": {
    "collapsed": false,
    "deletable": true,
    "editable": true
   },
   "outputs": [
    {
     "data": {
      "image/png": "[encoded data removed]",
      "text/plain": [
       "<matplotlib.figure.Figure at 0x7f3eab16d908>"
      ]
     },
     "metadata": {},
     "output_type": "display_data"
    }
   ],
   "source": [
    "plt.figure(figsize=(15, 7))\n",
    "for i in range(1000 - 1):\n",
    "    plt.hlines(jumps[i], corr_times[i], corr_times[i+1], lw=3, color='blue')\n",
    "plt.grid(ls=':')\n",
    "\n",
    "plt.title('Первые 1000 событий',\n",
    "          fontsize=20)\n",
    "plt.xlabel('Время', fontsize=20)\n",
    "plt.ylabel('Bytes', fontsize=20)\n",
    "plt.show()"
   ]
  },
  {
   "cell_type": "code",
   "execution_count": 45,
   "metadata": {
    "collapsed": true,
    "deletable": true,
    "editable": true
   },
   "outputs": [],
   "source": [
    "jumps = np.cumsum(byte)"
   ]
  },
  {
   "cell_type": "code",
   "execution_count": 46,
   "metadata": {
    "collapsed": false,
    "deletable": true,
    "editable": true
   },
   "outputs": [
    {
     "data": {
      "image/png": "[encoded data removed]",
      "text/plain": [
       "<matplotlib.figure.Figure at 0x7f3e951bf400>"
      ]
     },
     "metadata": {},
     "output_type": "display_data"
    }
   ],
   "source": [
    "plt.figure(figsize=(15, 7))\n",
    "plt.plot(range(len(jumps)), jumps, lw=3, color='blue')\n",
    "plt.grid(ls=':')\n",
    "\n",
    "plt.title('Примерный график всего процесса',\n",
    "          fontsize=20)\n",
    "plt.xlabel('Время', fontsize=20)\n",
    "plt.ylabel('Bytes', fontsize=20)\n",
    "plt.show()"
   ]
  },
  {
   "cell_type": "markdown",
   "metadata": {
    "deletable": true,
    "editable": true
   },
   "source": [
    "## Проверка на однородность"
   ]
  },
  {
   "cell_type": "markdown",
   "metadata": {
    "deletable": true,
    "editable": true
   },
   "source": [
    "Проверим, что критерий не отвергает самостоятельно сгенерированные пуассоновские процессы."
   ]
  },
  {
   "cell_type": "code",
   "execution_count": 21,
   "metadata": {
    "collapsed": true,
    "deletable": true,
    "editable": true
   },
   "outputs": [],
   "source": [
    "alpha = 0.05"
   ]
  },
  {
   "cell_type": "code",
   "execution_count": 22,
   "metadata": {
    "collapsed": true,
    "deletable": true,
    "editable": true
   },
   "outputs": [],
   "source": [
    "T = 3600 # Один час\n",
    "l = 1  # Интенсивность\n",
    "\n",
    "S = 0\n",
    "xi = [0]  # Тут будут случайные величины \\xi_i. Ноль для удобства\n",
    "while S < T:\n",
    "    xi.append(sps.expon(scale=1/l).rvs())\n",
    "    S += xi[-1]\n",
    "jumps = np.cumsum(xi)  # Моменты скачков"
   ]
  },
  {
   "cell_type": "code",
   "execution_count": 23,
   "metadata": {
    "collapsed": false,
    "deletable": true,
    "editable": true
   },
   "outputs": [
    {
     "name": "stdout",
     "output_type": "stream",
     "text": [
      "p-value:  0.61099\n",
      "Гипотеза не отвергается\n"
     ]
    }
   ],
   "source": [
    "real = np.histogram(jumps, bins=10)\n",
    "K = len(real[0])\n",
    "kstest = sps.chisquare(real[0], np.ones(K) * np.sum(real[0]) / K)\n",
    "\n",
    "print(\"p-value: \", round(kstest.pvalue, 5))\n",
    "if kstest.pvalue > alpha:\n",
    "    print('Гипотеза не отвергается')\n",
    "else:\n",
    "    print('Гипотеза отвергается')"
   ]
  },
  {
   "cell_type": "code",
   "execution_count": 24,
   "metadata": {
    "collapsed": true,
    "deletable": true,
    "editable": true
   },
   "outputs": [],
   "source": [
    "T = 3600 * 24\n",
    "l = 1  # интенсивность\n",
    "\n",
    "S = 0\n",
    "xi = [0]  # тут будут случайные величины \\xi_i. Ноль для удобства\n",
    "while S < T:\n",
    "    xi.append(sps.expon(scale=1/l).rvs())\n",
    "    S += xi[-1]\n",
    "jumps = np.cumsum(xi)  # моменты скачков"
   ]
  },
  {
   "cell_type": "code",
   "execution_count": 25,
   "metadata": {
    "collapsed": false,
    "deletable": true,
    "editable": true
   },
   "outputs": [
    {
     "name": "stdout",
     "output_type": "stream",
     "text": [
      "p-value:  0.65009\n",
      "Гипотеза не отвергается\n"
     ]
    }
   ],
   "source": [
    "real = np.histogram(jumps, bins=10)\n",
    "K = len(real[0])\n",
    "kstest = sps.chisquare(real[0], np.ones(K) * np.sum(real[0]) / K)\n",
    "\n",
    "print(\"p-value: \", round(kstest.pvalue, 5))\n",
    "if kstest.pvalue > alpha:\n",
    "    print('Гипотеза не отвергается')\n",
    "else:\n",
    "    print('Гипотеза отвергается')"
   ]
  },
  {
   "cell_type": "code",
   "execution_count": 26,
   "metadata": {
    "collapsed": false,
    "deletable": true,
    "editable": true
   },
   "outputs": [],
   "source": [
    "T = 3600 * 24 * 7\n",
    "l = 1  # интенсивность\n",
    "\n",
    "S = 0\n",
    "xi = [0]  # тут будут случайные величины \\xi_i. Ноль для удобства\n",
    "while S < T:\n",
    "    xi.append(sps.expon(scale=1/l).rvs())\n",
    "    S += xi[-1]\n",
    "jumps = np.cumsum(xi)  # моменты скачков"
   ]
  },
  {
   "cell_type": "code",
   "execution_count": 27,
   "metadata": {
    "collapsed": false,
    "deletable": true,
    "editable": true
   },
   "outputs": [
    {
     "name": "stdout",
     "output_type": "stream",
     "text": [
      "p-value:  0.59536\n",
      "Гипотеза не отвергается\n"
     ]
    }
   ],
   "source": [
    "real = np.histogram(jumps, bins=10)\n",
    "K = len(real[0])\n",
    "kstest = sps.chisquare(real[0], np.ones(K) * np.sum(real[0]) / K)\n",
    "\n",
    "print(\"p-value: \", round(kstest.pvalue, 5))\n",
    "if kstest.pvalue > alpha:\n",
    "    print('Гипотеза не отвергается')\n",
    "else:\n",
    "    print('Гипотеза отвергается')"
   ]
  },
  {
   "cell_type": "markdown",
   "metadata": {
    "deletable": true,
    "editable": true
   },
   "source": [
    "Итак, на искусственных данных критерию работают хорошо. Проверим на однородность наши данные."
   ]
  },
  {
   "cell_type": "markdown",
   "metadata": {},
   "source": [
    "Сначала проверим, являются ли однородным данные за какой-либо час. Для этого возьмем 10 случайных моментов времени и посмотрим, что происходило в течение часа после выбранных моментов."
   ]
  },
  {
   "cell_type": "code",
   "execution_count": 82,
   "metadata": {
    "collapsed": false,
    "deletable": true,
    "editable": true
   },
   "outputs": [],
   "source": [
    "random_moment = [random.randint(0, len(corr_times)) for i in range(10)]\n",
    "random_time = np.zeros(10, dtype=int)\n",
    "for i in range(10):\n",
    "    while corr_times[random_time[i]] < random_moment[i]:\n",
    "        random_time[i] += 1\n",
    "random_moment = np.array(random_moment)\n",
    "random_time = np.array(random_time)"
   ]
  },
  {
   "cell_type": "code",
   "execution_count": 83,
   "metadata": {
    "collapsed": false,
    "deletable": true,
    "editable": true
   },
   "outputs": [
    {
     "name": "stdout",
     "output_type": "stream",
     "text": [
      "p-value:  0.04172\n",
      "Гипотеза отвергается\n",
      "p-value:  0.0\n",
      "Гипотеза отвергается\n",
      "p-value:  0.0\n",
      "Гипотеза отвергается\n",
      "p-value:  3e-05\n",
      "Гипотеза отвергается\n",
      "p-value:  1e-05\n",
      "Гипотеза отвергается\n",
      "p-value:  0.0\n",
      "Гипотеза отвергается\n",
      "p-value:  0.0\n",
      "Гипотеза отвергается\n",
      "p-value:  0.0\n",
      "Гипотеза отвергается\n",
      "p-value:  0.6934\n",
      "Гипотеза не отвергается\n",
      "p-value:  2e-05\n",
      "Гипотеза отвергается\n"
     ]
    }
   ],
   "source": [
    "for j in range(10):\n",
    "    xi = [corr_times[random_time[j]]]\n",
    "    i = random_time[j] + 1\n",
    "    \n",
    "    while corr_times[i] < random_moment[j] + 3600:\n",
    "        xi.append(corr_times[i])\n",
    "        i += 1\n",
    "        if i == len(corr_times):\n",
    "            break\n",
    "    \n",
    "    xi = np.array(xi)\n",
    "    \n",
    "    real = np.histogram(xi, bins=5)\n",
    "    K = len(real[0])\n",
    "    kstest = sps.chisquare(real[0], np.ones(K) * np.sum(real[0]) / K)\n",
    "\n",
    "    print(\"p-value: \", round(kstest.pvalue, 5))\n",
    "    if kstest.pvalue > alpha:\n",
    "        print('Гипотеза не отвергается')\n",
    "    else:\n",
    "        print('Гипотеза отвергается')"
   ]
  },
  {
   "cell_type": "markdown",
   "metadata": {
    "collapsed": true,
    "deletable": true,
    "editable": true
   },
   "source": [
    "Для 1 часа массивы получаются небоольшими (< 100), поэтому нет необходимости выбрать подвыборку и смотреть результат на ней."
   ]
  },
  {
   "cell_type": "markdown",
   "metadata": {},
   "source": [
    "Теперь проделаем то же самое для 1 суток. Если какой-то из массивов будет иметь размер больше 100, то выберем в нем подвыборку и будем проверять однородность уже на ней."
   ]
  },
  {
   "cell_type": "code",
   "execution_count": 84,
   "metadata": {
    "collapsed": false
   },
   "outputs": [
    {
     "name": "stdout",
     "output_type": "stream",
     "text": [
      "p-value:  0.0\n",
      "Гипотеза отвергается\n",
      "p-value:  0.00221\n",
      "Гипотеза отвергается\n",
      "p-value:  0.03015\n",
      "Гипотеза отвергается\n",
      "p-value:  0.00055\n",
      "Гипотеза отвергается\n",
      "p-value:  0.01341\n",
      "Гипотеза отвергается\n",
      "p-value:  0.00082\n",
      "Гипотеза отвергается\n",
      "p-value:  0.59183\n",
      "Гипотеза не отвергается\n",
      "p-value:  0.0\n",
      "Гипотеза отвергается\n",
      "p-value:  0.01811\n",
      "Гипотеза отвергается\n",
      "p-value:  1e-05\n",
      "Гипотеза отвергается\n"
     ]
    }
   ],
   "source": [
    "for j in range(10):\n",
    "    xi = [corr_times[random_time[j]]]\n",
    "    i = random_time[j] + 1\n",
    "    \n",
    "    while corr_times[i] < random_moment[j] + 3600 * 24:\n",
    "        xi.append(corr_times[i])\n",
    "        i += 1\n",
    "        if i == len(corr_times):\n",
    "            break\n",
    "    \n",
    "    xi = np.array(xi)\n",
    "    \n",
    "    if len(xi) > 100:\n",
    "        sub_xi = xi[sps.randint.rvs(0, len(xi), size=100)]\n",
    "    \n",
    "    real = np.histogram(sub_xi, bins=5)\n",
    "    K = len(real[0])\n",
    "    kstest = sps.chisquare(real[0], np.ones(K) * np.sum(real[0]) / K)\n",
    "\n",
    "    print(\"p-value: \", round(kstest.pvalue, 5))\n",
    "    if kstest.pvalue > alpha:\n",
    "        print('Гипотеза не отвергается')\n",
    "    else:\n",
    "        print('Гипотеза отвергается')"
   ]
  },
  {
   "cell_type": "markdown",
   "metadata": {},
   "source": [
    "Для недели."
   ]
  },
  {
   "cell_type": "code",
   "execution_count": 85,
   "metadata": {
    "collapsed": false
   },
   "outputs": [
    {
     "name": "stdout",
     "output_type": "stream",
     "text": [
      "p-value:  0.16479\n",
      "Гипотеза не отвергается\n",
      "p-value:  0.43375\n",
      "Гипотеза не отвергается\n",
      "p-value:  0.00276\n",
      "Гипотеза отвергается\n",
      "p-value:  0.0458\n",
      "Гипотеза отвергается\n",
      "p-value:  0.03015\n",
      "Гипотеза отвергается\n",
      "p-value:  0.08452\n",
      "Гипотеза не отвергается\n",
      "p-value:  0.01284\n",
      "Гипотеза отвергается\n",
      "p-value:  0.09919\n",
      "Гипотеза не отвергается\n",
      "p-value:  0.00832\n",
      "Гипотеза отвергается\n",
      "p-value:  0.00075\n",
      "Гипотеза отвергается\n"
     ]
    }
   ],
   "source": [
    "for j in range(10):\n",
    "    xi = [corr_times[random_time[j]]]\n",
    "    i = random_time[j] + 1\n",
    "    \n",
    "    while corr_times[i] < random_moment[j] + 3600 * 24 * 7:\n",
    "        xi.append(corr_times[i])\n",
    "        i += 1\n",
    "        if i == len(corr_times):\n",
    "            break\n",
    "    \n",
    "    xi = np.array(xi)\n",
    "    \n",
    "    if len(xi) > 100:\n",
    "        sub_xi = xi[sps.randint.rvs(0, len(xi), size=100)]\n",
    "    \n",
    "    real = np.histogram(sub_xi, bins=5)\n",
    "    K = len(real[0])\n",
    "    kstest = sps.chisquare(real[0], np.ones(K) * np.sum(real[0]) / K)\n",
    "\n",
    "    print(\"p-value: \", round(kstest.pvalue, 5))\n",
    "    if kstest.pvalue > alpha:\n",
    "        print('Гипотеза не отвергается')\n",
    "    else:\n",
    "        print('Гипотеза отвергается')"
   ]
  },
  {
   "cell_type": "markdown",
   "metadata": {},
   "source": [
    "Месяц."
   ]
  },
  {
   "cell_type": "code",
   "execution_count": 86,
   "metadata": {
    "collapsed": false
   },
   "outputs": [
    {
     "name": "stdout",
     "output_type": "stream",
     "text": [
      "p-value:  0.03878\n",
      "Гипотеза отвергается\n",
      "p-value:  0.00048\n",
      "Гипотеза отвергается\n",
      "p-value:  0.01662\n",
      "Гипотеза отвергается\n",
      "p-value:  0.00036\n",
      "Гипотеза отвергается\n",
      "p-value:  0.11171\n",
      "Гипотеза не отвергается\n",
      "p-value:  0.1918\n",
      "Гипотеза не отвергается\n",
      "p-value:  0.09919\n",
      "Гипотеза не отвергается\n",
      "p-value:  0.05402\n",
      "Гипотеза не отвергается\n",
      "p-value:  0.04215\n",
      "Гипотеза отвергается\n",
      "p-value:  0.07489\n",
      "Гипотеза не отвергается\n"
     ]
    }
   ],
   "source": [
    "for j in range(10):\n",
    "    xi = [corr_times[random_time[j]]]\n",
    "    i = random_time[j] + 1\n",
    "    \n",
    "    while corr_times[i] < random_moment[j] + 3600 * 24 * 7 * 30:\n",
    "        xi.append(corr_times[i])\n",
    "        i += 1\n",
    "        if i == len(corr_times):\n",
    "            break\n",
    "    \n",
    "    xi = np.array(xi)\n",
    "    \n",
    "    if len(xi) > 100:\n",
    "        sub_xi = xi[sps.randint.rvs(0, len(xi), size=100)]\n",
    "    \n",
    "    real = np.histogram(sub_xi, bins=5)\n",
    "    K = len(real[0])\n",
    "    kstest = sps.chisquare(real[0], np.ones(K) * np.sum(real[0]) / K)\n",
    "\n",
    "    print(\"p-value: \", round(kstest.pvalue, 5))\n",
    "    if kstest.pvalue > alpha:\n",
    "        print('Гипотеза не отвергается')\n",
    "    else:\n",
    "        print('Гипотеза отвергается')"
   ]
  },
  {
   "cell_type": "code",
   "execution_count": null,
   "metadata": {
    "collapsed": true
   },
   "outputs": [],
   "source": []
  }
 ],
 "metadata": {
  "kernelspec": {
   "display_name": "Python 3",
   "language": "python",
   "name": "python3"
  },
  "language_info": {
   "codemirror_mode": {
    "name": "ipython",
    "version": 3
   },
   "file_extension": ".py",
   "mimetype": "text/x-python",
   "name": "python",
   "nbconvert_exporter": "python",
   "pygments_lexer": "ipython3",
   "version": "3.5.2"
  }
 },
 "nbformat": 4,
 "nbformat_minor": 2
}
