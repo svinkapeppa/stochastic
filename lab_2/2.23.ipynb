{
 "cells": [
  {
   "cell_type": "markdown",
   "metadata": {
    "deletable": true,
    "editable": true
   },
   "source": [
    "# Случайные процессы. Прикладной поток.\n",
    "## Практическое задание 2\n",
    "\n",
    "**Правила:**\n",
    "\n",
    "* Выполненную работу нужно отправить на почту `probability.diht@yandex.ru`, указав тему письма `\"[СП17] Фамилия Имя - Задание 2\"`. Квадратные скобки обязательны. Вместо `Фамилия Имя` нужно подставить свои фамилию и имя.\n",
    "* Прислать нужно ноутбук и его pdf-версию. Названия файлов должны быть такими: `2.N.ipynb` и `2.N.pdf`, где `N` - ваш номер из таблицы с оценками.\n",
    "* Никакой код из данного задания при проверке запускаться не будет."
   ]
  },
  {
   "cell_type": "code",
   "execution_count": 1,
   "metadata": {
    "collapsed": false,
    "deletable": true,
    "editable": true
   },
   "outputs": [],
   "source": [
    "import numpy as np\n",
    "import scipy.stats as sps\n",
    "from collections import Counter  # это может пригодиться\n",
    "from BranchingProcess import Person, BranchingProcess, read_from_files\n",
    "\n",
    "from statsmodels.sandbox.stats.multicomp import multipletests\n",
    "from math import factorial, exp\n",
    "\n",
    "import matplotlib.pyplot as plt\n",
    "from matplotlib import rcParams\n",
    "rcParams.update({'font.size': 16})\n",
    "%matplotlib inline"
   ]
  },
  {
   "cell_type": "markdown",
   "metadata": {
    "deletable": true,
    "editable": true
   },
   "source": [
    "Считаем данные."
   ]
  },
  {
   "cell_type": "code",
   "execution_count": 2,
   "metadata": {
    "collapsed": false,
    "deletable": true,
    "editable": true
   },
   "outputs": [
    {
     "name": "stdout",
     "output_type": "stream",
     "text": [
      "76628\n"
     ]
    }
   ],
   "source": [
    "processes = read_from_files([\"data/D.txt\", \"data/W.txt\", \"data/S.txt\", \n",
    "                             \"data/I.txt\", \"data/N.txt\", \"data/O.txt\", \n",
    "                             \"data/K.txt\", \"data/J.txt\", \"data/M.txt\", \n",
    "                             \"data/G.txt\"])\n",
    "print(len(processes))"
   ]
  },
  {
   "cell_type": "markdown",
   "metadata": {
    "deletable": true,
    "editable": true
   },
   "source": [
    "В имеющихся данных очень много людей, про которых известно лишь то, что они когда-то существовали. Обычно их фамилия неизвестна (вместо фамилии у них может стоять, к примеру, `B-290`), а у некоторых из них неизвестен даже пол, не говоря уже о родителях и детях. Такие данные стоит удалить.\n",
    "\n",
    "Удалим все процессы, состоящие только из одного поколения (в котором, естественно, будет только один человек)."
   ]
  },
  {
   "cell_type": "code",
   "execution_count": 3,
   "metadata": {
    "collapsed": false,
    "deletable": true,
    "editable": true
   },
   "outputs": [
    {
     "name": "stdout",
     "output_type": "stream",
     "text": [
      "22166\n"
     ]
    }
   ],
   "source": [
    "for i in range(len(processes))[::-1]:\n",
    "    if len(processes[i].generations) < 2:\n",
    "        del processes[i]\n",
    "\n",
    "print(len(processes))"
   ]
  },
  {
   "cell_type": "markdown",
   "metadata": {
    "deletable": true,
    "editable": true
   },
   "source": [
    "## Оценка закона размножения\n",
    "\n",
    "Чтобы проводить какой-либо анализ ветвящегося процесса нужно некоторым образом оценить закон размножения. Кажется,  что для этого достаточно посчитать количество сыновей у каждого человека, получив тем самым выборку неотрицательных целых чисел. Однако, проблема в том, что данные неполные, в частности, некоторые поля могут быть не заполнены. Тем не менее обычно у человека указаны либо все дети, либо не указаны вообще. \n",
    "Таким образом, условно мы можем разделить выборку на две части: поле детей заполнено (в т.ч. если у человека на самом деле нет детей), поле детей незаполнено. Если бы первая часть выборки была бы полностью известна, что распределение можно оценить по ней. Нам же неизвестен размер выборки и количество нулевых элементов в ней. Количество положительных элементов известно.\n",
    "\n",
    "\n",
    "**Математическая постановка задачи**\n",
    "\n",
    "$\\mathsf{P}_\\theta$ --- неизвестное распределение из некоторого класса распределений $\\mathcal{P}$ на $\\mathbb{Z}_+$.\n",
    "\n",
    "$X_1, ..., X_n$ --- выборка из распределения $\\mathsf{P}_\\theta$, причем $n$ и количество нулей в выборке неизвестны. \n",
    "\n",
    "$Y_1, ..., Y_s$ --- положительная подвыборка, которая полностью нам известна. В нашей задаче $Y_j$ --- количество сыновей у $j$-го человека среди тех, у кого есть хотя бы один сын.\n",
    "\n",
    "Оценку параметра $\\theta$ можно найти методом максимального правдоподобия:\n",
    "\n",
    "$$\\prod_{i=1}^s \\mathsf{P}_\\theta (Y_i \\left| Y_i > 0 \\right) \\to \\max_\\theta$$ "
   ]
  },
  {
   "cell_type": "markdown",
   "metadata": {
    "deletable": true,
    "editable": true
   },
   "source": [
    "** Геометрическое распределение **\n",
    "\n",
    "Функция вероятности геометрического распределения есть\n",
    "\n",
    "$$p_{\\theta}(k) = p(1 - p)^{k},$$\n",
    "\n",
    "где $k$ - номер первого успеха.\n",
    "\n",
    "Так как рассматриваются только положительные значения, то будем работать с функцией\n",
    "\n",
    "$$p_{\\theta}(k\\ |\\ k>0) = p(1-p)^{k-1}$$\n",
    "\n",
    "Тогда необходимо максимизировать функцию \n",
    "\n",
    "$$f = \\cfrac{p^{s}(1 - p)^{\\sum_{i=1}^{s}Y_{i}}}{(1 - p)^s}$$\n",
    "\n",
    "Прологарифмировав и взяв производную, получаем\n",
    "\n",
    "$$L = \\cfrac{s}{p} - \\cfrac{-s + \\sum_{i=1}^{s}Y_{i}}{1 - p}$$\n",
    "\n",
    "Таким образом, оценкой параметра $\\theta$ является $\\theta^* = \\cfrac{1}{\\overline{Y}}$."
   ]
  },
  {
   "cell_type": "code",
   "execution_count": 166,
   "metadata": {
    "collapsed": false,
    "deletable": true,
    "editable": true
   },
   "outputs": [],
   "source": [
    "def get_theta_all():\n",
    "    '''\n",
    "    ОМП для геометрического распределения\n",
    "    Принцип работы: смотрим на мужчин в i-м\n",
    "    поколении и на их сыновей в i+1-м\n",
    "    поколении; количество сыновей заносим в\n",
    "    массив; ОМП - обратное к среднему \n",
    "    '''\n",
    "    sample = []\n",
    "\n",
    "    for pedigree in processes:\n",
    "        for i in range(len(pedigree.generations) - 1):\n",
    "            for person in pedigree.generations[i]:\n",
    "                if person.gender == \"male\" and (len(person.children) > 0):\n",
    "                    tmp = 0\n",
    "                    for child in pedigree.generations[i+1]:\n",
    "                        if child.gender == \"male\" and \\\n",
    "                        (child.name in person.children):\n",
    "                            tmp += 1\n",
    "                    if (tmp != 0):\n",
    "                        sample.append(tmp)\n",
    "    \n",
    "    return 1 / np.mean(sample)"
   ]
  },
  {
   "cell_type": "code",
   "execution_count": 167,
   "metadata": {
    "collapsed": false,
    "deletable": true,
    "editable": true
   },
   "outputs": [
    {
     "name": "stdout",
     "output_type": "stream",
     "text": [
      "Оценка параметра для геометрического распределения:  0.46\n"
     ]
    }
   ],
   "source": [
    "theta_geom = get_theta_all()\n",
    "print('Оценка параметра для геометрического распределения: ', round(theta_geom, 2))"
   ]
  },
  {
   "cell_type": "markdown",
   "metadata": {
    "deletable": true,
    "editable": true
   },
   "source": [
    "** Первая часть **"
   ]
  },
  {
   "cell_type": "markdown",
   "metadata": {
    "collapsed": true,
    "deletable": true,
    "editable": true
   },
   "source": [
    "Для того, чтобы найти вероятность вырождения, режим уравнение\n",
    "\n",
    "$$q = \\varphi_{\\xi}(q),$$\n",
    "\n",
    "где $\\varphi$ - производящая функция.\n",
    "\n",
    "Для геометрического распределения имеем\n",
    "\n",
    "$$ \\varphi_{\\xi}(z) = \\mathbf{E}z^{\\xi} = \\sum_{m=1}^{\\infty} P_{m}z^{m} = \\sum_{m=1}^{\\infty}(p(1-p)^{m})z^{m} = p \\sum_{m=1}^{\\infty}((1-p)z)^{m} = \\cfrac{p}{1-(1-p)z}$$\n",
    "\n",
    "$$q = \\cfrac{p}{1-(1-p)q} \\Longrightarrow q = \\cfrac{p}{1-p}I_{\\{p\\leq\\frac{1}{2}\\}} + I_{\\{p>\\frac{1}{2}\\}}$$"
   ]
  },
  {
   "cell_type": "code",
   "execution_count": 6,
   "metadata": {
    "collapsed": false,
    "deletable": true,
    "editable": true
   },
   "outputs": [],
   "source": [
    "def count_dgnrcy(p):\n",
    "    '''\n",
    "    Функция, вычисляющая вероятность вырождения\n",
    "    '''\n",
    "    if (p > 0.5):\n",
    "        return 1\n",
    "    else:\n",
    "        return p / (1 - p)"
   ]
  },
  {
   "cell_type": "code",
   "execution_count": 168,
   "metadata": {
    "collapsed": false,
    "deletable": true,
    "editable": true
   },
   "outputs": [],
   "source": [
    "def get_theta(pedigree):\n",
    "    '''\n",
    "    ОМП геометрического распределения для \n",
    "    конкретного рода\n",
    "    Принцип работы: смотрим на мужчин в i-м\n",
    "    поколении и на их сыновей в i+1-м поколении;\n",
    "    количество сыновей заносим в массив;\n",
    "    если длина массива 0 или 10 - \n",
    "    - рассматриваем отдельно\n",
    "    '''\n",
    "    atomic = []\n",
    "    \n",
    "    for i in range(len(pedigree.generations) - 1):\n",
    "        for person in pedigree.generations[i]:\n",
    "            if person.gender == \"male\" and (len(person.children) > 0):\n",
    "                tmp = 0\n",
    "                for child in pedigree.generations[i+1]:\n",
    "                    if child.gender == \"male\" and \\\n",
    "                    (child.name in person.children):\n",
    "                        tmp += 1\n",
    "                if (tmp != 0):\n",
    "                    atomic.append(tmp)\n",
    "    \n",
    "    if len(atomic) == 0:\n",
    "        return 1\n",
    "    elif len(atomic) < 10:\n",
    "        return theta_geom\n",
    "    else:\n",
    "        return 1 / np.mean(atomic)\n",
    "\n",
    "def get_dgnrcy(pedigree):\n",
    "    '''\n",
    "    Функция, подсчитывающая вероятность вырождения\n",
    "    Принцип работы: как предыдущая функция, только\n",
    "    в конце вызывается функция подсчета вероятности\n",
    "    вырождения\n",
    "    '''\n",
    "    atomic = []\n",
    "    \n",
    "    for i in range(len(pedigree.generations) - 1):\n",
    "        for person in pedigree.generations[i]:\n",
    "            if person.gender == \"male\" and (len(person.children) > 0):\n",
    "                tmp = 0\n",
    "                for child in pedigree.generations[i+1]:\n",
    "                    if child.gender == \"male\" and \\\n",
    "                    (child.name in person.children):\n",
    "                        tmp += 1\n",
    "                if (tmp != 0):\n",
    "                    atomic.append(tmp)\n",
    "                    \n",
    "    if len(atomic) == 0:\n",
    "        return 1\n",
    "    elif len(atomic) < 10:\n",
    "        return count_dgnrcy(theta_geom)\n",
    "    else:\n",
    "        return count_dgnrcy(1 / np.mean(atomic))"
   ]
  },
  {
   "cell_type": "code",
   "execution_count": 169,
   "metadata": {
    "collapsed": false,
    "deletable": true,
    "editable": true
   },
   "outputs": [
    {
     "name": "stdout",
     "output_type": "stream",
     "text": [
      "Количество процессов, вероятность вырождения которых равна 1:  7335\n",
      "Количество процессов, вероятность вырождения которых меньше 0.5:  169\n"
     ]
    }
   ],
   "source": [
    "degeneracy = []\n",
    "\n",
    "for pedigree in processes:\n",
    "    degeneracy.append(get_dgnrcy(pedigree))\n",
    "\n",
    "print(\"Количество процессов, вероятность вырождения которых равна 1: \",\n",
    "      sum(i==1 for i in degeneracy))\n",
    "print(\"Количество процессов, вероятность вырождения которых меньше 0.5: \",\n",
    "      sum(i<0.5 for i in degeneracy))"
   ]
  },
  {
   "cell_type": "markdown",
   "metadata": {
    "deletable": true,
    "editable": true
   },
   "source": [
    "** Вторая часть **"
   ]
  },
  {
   "cell_type": "markdown",
   "metadata": {},
   "source": [
    "** Будем производить моделирование исходя из следующих предположений **:\n",
    "\n",
    "1. Для каждого рода вычислим среднее время жизни одного поколения. Будем считать, что оно не зависит от номера поколения.\n",
    "    * В расчетах будем использовать только тех людей, про которых известно все необходимое (они живы и известна их дата рождения)\n",
    "    * Если таких людей не нашлось, то положим среднее время жизни одного поколения равным 33 годам (так как в реальной жизни 100 лет ~ 3 поколения)\n",
    "    * Если получится, что между поколениями прошло слишком мало лет (из естественных соображений полагаем, что между поколениями должно пройти хотя бы 18 лет), то положим среднее время жизни между поколениями равным 33 годам.\n",
    "\n",
    "2. Для каждого рода вычислим, с какого года начинается моделирование.\n",
    "    * Найдем года рождения всех живых мужчин и возьмем среднее.\n",
    "    * Если мужчина родился раньше 1900 года, то считаем, что он уже умер.\n",
    "    * Если мужчин, удовлетворяющих таким условиям нет, то считаем, что процесс выродился."
   ]
  },
  {
   "cell_type": "code",
   "execution_count": 170,
   "metadata": {
    "collapsed": true,
    "deletable": true,
    "editable": true
   },
   "outputs": [],
   "source": [
    "def geom_rvs(theta, size_):\n",
    "    '''\n",
    "    Генерация точек геометрического распределения\n",
    "    '''\n",
    "    return sps.geom.rvs(theta, size=size_) - 1"
   ]
  },
  {
   "cell_type": "code",
   "execution_count": 195,
   "metadata": {
    "collapsed": false,
    "deletable": true,
    "editable": true
   },
   "outputs": [],
   "source": [
    "def lifetime(pedigree):\n",
    "    '''\n",
    "    Функция, вычисляющая среднюю длину жизни поколения\n",
    "    Принцип работы: считаем разность средних дат рождения\n",
    "    для соседних поколений; усредняем по всем парам\n",
    "    '''\n",
    "    diff = []\n",
    "    average = []\n",
    "    \n",
    "    for i in range(len(pedigree.generations)):\n",
    "        ages = []\n",
    "        \n",
    "        for person in pedigree.generations[i]:\n",
    "            if person.birthday != '':\n",
    "                year = person.birthday.split('-')[0]\n",
    "                if year != '':\n",
    "                    ages.append(int(year))\n",
    "                    \n",
    "        if ages != []:\n",
    "            average.append(np.mean(ages))\n",
    "        else:\n",
    "            average.append(0)\n",
    "    \n",
    "    for i in range(len(pedigree.generations) - 1):\n",
    "        if average[i+1] != 0 and average[i] != 0 \\\n",
    "        and average[i+1] - average[i] >= 18:\n",
    "            diff.append(int(average[i+1] - average[i]))\n",
    "        else:\n",
    "            diff.append(33)\n",
    "    \n",
    "    return int(np.mean(diff))\n",
    "            \n",
    "def get_year(pedigree):\n",
    "    '''\n",
    "    Функция, вычисляющая, с какого года следует\n",
    "    начать моделировать процесс\n",
    "    Принцип работы: усредняем года рождения всех\n",
    "    живых мужчин\n",
    "    '''\n",
    "    ages = []\n",
    "    last = len(pedigree.generations) - 1\n",
    "    \n",
    "    for person in pedigree.generations[last]:\n",
    "        if person.birthday != '':\n",
    "            year = person.birthday.split('-')[0]\n",
    "            if year > '1900':\n",
    "                ages.append(int(year))\n",
    "    if ages != []:\n",
    "        return int(np.mean(ages))\n",
    "    else:\n",
    "        return 0\n",
    "\n",
    "def model(pedigree):\n",
    "    '''\n",
    "    Функция, отвечающая за моделирование\n",
    "    Принцип работы: находим всех живых мужчин;\n",
    "    определяем, с какого года начнется процесс;\n",
    "    определяем, какова длина поколения; пока не \n",
    "    2217 год - определяем кол-во сыновей\n",
    "    '''\n",
    "    successors = []\n",
    "    last = len(pedigree.generations) - 1\n",
    "    \n",
    "    life = lifetime(pedigree)\n",
    "    \n",
    "    for person in pedigree.generations[last]:\n",
    "        if person.gender == 'male' and person.deathdate == '' \\\n",
    "        and person.birthday.split('-')[0] > '1900':\n",
    "            successors.append(person)\n",
    "    \n",
    "    score = len(successors)\n",
    "    theta = get_theta(pedigree)\n",
    "    year = get_year(pedigree)\n",
    "    \n",
    "    if score == 0 or year == 0:\n",
    "        return 0\n",
    "    \n",
    "    while year <= (2217 - life):\n",
    "        x = geom_rvs(theta, score)\n",
    "        y = sum(x)\n",
    "        if y == 0:\n",
    "            return 0\n",
    "        else:\n",
    "            score = y\n",
    "            year += life\n",
    "            \n",
    "    return score"
   ]
  },
  {
   "cell_type": "code",
   "execution_count": 201,
   "metadata": {
    "collapsed": false,
    "deletable": true,
    "editable": true
   },
   "outputs": [
    {
     "name": "stdout",
     "output_type": "stream",
     "text": [
      "В 2217 году население составит 143987 человек.\n"
     ]
    }
   ],
   "source": [
    "ppl = 0\n",
    "\n",
    "for i in range(len(processes)):\n",
    "    x = model(processes[i])\n",
    "    ppl += x\n",
    "        \n",
    "print('В 2217 году население составит', ppl, 'человек.')"
   ]
  },
  {
   "cell_type": "markdown",
   "metadata": {},
   "source": [
    "** TODO: ** Построить доверительные интервалы."
   ]
  },
  {
   "cell_type": "code",
   "execution_count": null,
   "metadata": {
    "collapsed": true
   },
   "outputs": [],
   "source": []
  }
 ],
 "metadata": {
  "kernelspec": {
   "display_name": "Python 3",
   "language": "python",
   "name": "python3"
  },
  "language_info": {
   "codemirror_mode": {
    "name": "ipython",
    "version": 3
   },
   "file_extension": ".py",
   "mimetype": "text/x-python",
   "name": "python",
   "nbconvert_exporter": "python",
   "pygments_lexer": "ipython3",
   "version": "3.5.2"
  }
 },
 "nbformat": 4,
 "nbformat_minor": 0
}
