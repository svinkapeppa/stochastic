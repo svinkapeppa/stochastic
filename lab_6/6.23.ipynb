{
 "cells": [
  {
   "cell_type": "markdown",
   "metadata": {
    "deletable": true,
    "editable": true
   },
   "source": [
    "# Случайные процессы. Прикладной поток.\n",
    "## Практическое задание 6\n",
    "\n",
    "**Правила:**\n",
    "\n",
    "* Выполненную работу нужно отправить на почту `probability.diht@yandex.ru`, указав тему письма `\"[СП17] Фамилия Имя - Задание 6\"`. Квадратные скобки обязательны. Вместо `Фамилия Имя` нужно подставить свои фамилию и имя.\n",
    "* Прислать нужно ноутбук и его pdf-версию. Названия файлов должны быть такими: `6.N.ipynb` и `6.N.pdf`, где `N` - ваш номер из таблицы с оценками.\n",
    "* При проверке могут быть запущены функции, которые отвечают за генерацию траекторий винеровского процесса.\n",
    "\n",
    "------------------"
   ]
  },
  {
   "cell_type": "code",
   "execution_count": 11,
   "metadata": {
    "collapsed": true
   },
   "outputs": [],
   "source": [
    "import scipy.stats as sps\n",
    "import numpy as np"
   ]
  },
  {
   "cell_type": "markdown",
   "metadata": {
    "deletable": true,
    "editable": true
   },
   "source": [
    "### 1. Генерация винеровского процесса\n",
    "\n",
    "Генерировать траектории винеровского процесса можно двумя способами:\n",
    "\n",
    "1. На отрезке $[0, 1]$ траектория генерируется с помощью функций Шаудера. Описание данного метода было рассказано на лекции. Его можно найти так же в книге *А.В. Булинский, А.Н. Ширяев - Теория случайных процессов*.\n",
    "\n",
    "2. На отрезке $[0, \\pi]$ траекторию можно с помощью следующей формулы\n",
    "$$W_t = \\frac{\\xi_0 t}{\\sqrt{\\pi}} +\\sqrt{\\frac{2}{\\pi}}\\sum\\limits_{i=1}^{+\\infty} \\frac{\\sin(kt)}{k} \\xi_k,$$\n",
    "где $\\{\\xi_n\\}$ --- независимые стандартные нормальные случайные величины.\n",
    "\n",
    "Траектория для $\\mathbb{R}_+$ генерируется с помощью генерирования отдельных траекторий для отрезков длины 1 или $\\pi$ (в зависимости от метода) с последующим непрерывным склеиванием.\n",
    "\n",
    "Генерацию траекторий одним из этих способов вам нужно реализовать. Ваш вариант можете узнать из файла с распределением.\n",
    "\n",
    "Напишите класс, который будет моделировать винеровский процесс.\n",
    "Из бесконечной суммы берите первые $n$ слагаемых, где число $n$ соответствует параметру `precision`.\n",
    "Интерфейс должен быть примерно таким (подчеркивания обязательны!):"
   ]
  },
  {
   "cell_type": "code",
   "execution_count": 401,
   "metadata": {
    "collapsed": false,
    "deletable": true,
    "editable": true
   },
   "outputs": [],
   "source": [
    "class WinerProcess:\n",
    "    def __init__(self, precision=10000):\n",
    "        self.precision = precision\n",
    "        self.xi = [sps.norm.rvs(size=precision)]\n",
    "        self.n = np.log2(np.arange(1, precision)).astype(int)\n",
    "        self.a_nk = (1 / np.power(2, self.n)) * (np.arange(1, precision) - np.power(2, self.n))\n",
    "        \n",
    "    def __getitem__(self, times):\n",
    "        last_time = np.max(times)\n",
    "        if (last_time - int(last_time) > 0):\n",
    "            last_time = int(last_time) + 1\n",
    "        else:\n",
    "            last_time = last_time.astype(int)\n",
    "        if (last_time > len(self.xi)) :\n",
    "            self.xi += [sps.norm.rvs(size=self.precision)] * (last_time - len(self.xi))\n",
    "        for i in range(last_time):\n",
    "            S = np.zeros(self.precision - 1)\n",
    "            # self.a_nk[::2] <+ times[i] and \n",
    "            print(self.a_nk[:10])\n",
    "            print((self.a_nk + (1 / np.power(2, self.n + 1)))[:10])\n",
    "            positive_slope = np.logical_and(\n",
    "                (times[i] <= self.a_nk + (1 / np.power(2, self.n + 1))),\n",
    "                (self.a_nk <= times[i]))\n",
    "            print(positive_slope[:10])\n",
    "            S[positive_slope] = (times[i] - self.a_nk[positive_slope]) /\\\n",
    "                                (np.power(2, self.n[positive_slope] / 2 + 1))\n",
    "            #negative_slope = np.logical_and(*something*)\n",
    "            #S[negative_slope] = *something*\n",
    "            #Need to distinguish the first element of the positive_slope\n",
    "            #Also need to add zero Haar function\n",
    "            print(S[:10])"
   ]
  },
  {
   "cell_type": "code",
   "execution_count": 402,
   "metadata": {
    "collapsed": false
   },
   "outputs": [
    {
     "name": "stdout",
     "output_type": "stream",
     "text": [
      "[ 0.     0.     0.5    0.     0.25   0.5    0.75   0.     0.125  0.25 ]\n",
      "[ 0.5     0.25    0.75    0.125   0.375   0.625   0.875   0.0625  0.1875\n",
      "  0.3125]\n",
      "[ True  True False  True False False False False False False]\n",
      "[ 0.05        0.03535534  0.          0.025       0.          0.          0.\n",
      "  0.          0.          0.        ]\n"
     ]
    }
   ],
   "source": [
    "p = WinerProcess()\n",
    "t = np.linspace(0.1, 0.1, 1)\n",
    "p[t]"
   ]
  },
  {
   "cell_type": "code",
   "execution_count": 273,
   "metadata": {
    "collapsed": false
   },
   "outputs": [
    {
     "data": {
      "text/plain": [
       "array([ 2,  4,  6,  8, 10, 12, 14, 16, 18, 20, 22, 24, 26, 28, 30, 32, 34,\n",
       "       36, 38, 40, 42, 44, 46, 48, 50, 52, 54, 56, 58, 60, 62, 64, 66, 68,\n",
       "       70, 72, 74, 76, 78, 80, 82, 84, 86, 88, 90, 92, 94, 96, 98])"
      ]
     },
     "execution_count": 273,
     "metadata": {},
     "output_type": "execute_result"
    }
   ],
   "source": [
    "x = np.arange(1, 100)\n",
    "x[1::2]"
   ]
  },
  {
   "cell_type": "markdown",
   "metadata": {
    "deletable": true,
    "editable": true
   },
   "source": [
    "* Экземпляр класса должен представлять некоторую траекторию винеровского процесса. Это означает, что один и тот же экземпляр класса для одного и того же момента времени должен возвращать одно и тоже значение. Разные экземпляры класса --- разные (п.н.) траектории.\n",
    "\n",
    "* Метод `__init__` (конструктор) должен запоминать число слагаемых в сумме (`precision`), а также (может быть) генерировать необходимые случайные величины для начального отрезка.\n",
    "\n",
    "* Метод `__getitem__` должен принимать набор моментов времени и возвращать значения траектории винеровского процесса в эти моменты времени. При необходимости можно сгенерировать новые случайные величины. Используйте то, что запись `x.__getitem__(y)` эквивалентна `x[y]`.\n",
    "\n",
    "* Для получения полного балла и быстро работающего кода реализация должна содержать не более одного явного цикла (по отрезкам при непосредственной генерации). Вместо всех остальных циклов нужно использовать функции библиотеки `numpy`.\n",
    "\n",
    "* Внимательно проверьте отсутствие разрывов траектории в точках, кратных $\\pi$.\n",
    "\n",
    "* Имена любых вспомогательных методов должны начинаться с одного подчеркивания.\n",
    "\n",
    "* В реализации желательно комментировать (почти) каждую строку кода. Это даже больше поможет вам, чем нам при проверке."
   ]
  },
  {
   "cell_type": "markdown",
   "metadata": {
    "deletable": true,
    "editable": true
   },
   "source": [
    "Сгенерируйте траекторию винеровского процесса и постройте ее график. Сгенерируйте еще одну траекторию и постройте график двумерного винеровского процесса. Графики должны быть похожими на графики с семинара."
   ]
  },
  {
   "cell_type": "code",
   "execution_count": null,
   "metadata": {
    "collapsed": true,
    "deletable": true,
    "editable": true
   },
   "outputs": [],
   "source": [
    "..."
   ]
  },
  {
   "cell_type": "markdown",
   "metadata": {
    "deletable": true,
    "editable": true
   },
   "source": [
    "Допустим, для исследования свойств траекторий винеровского процесса нам нужно сгенерировать траекторию с хорошей точностью до достаточно большого значения $t$.\n",
    "Какие проблемы могут возникнуть при использовании реализованного класса?\n",
    "Для этого попробуйте запустить следующий код."
   ]
  },
  {
   "cell_type": "code",
   "execution_count": null,
   "metadata": {
    "collapsed": true,
    "deletable": true,
    "editable": true
   },
   "outputs": [],
   "source": [
    "Wt = WinerProccess()\n",
    "t = np.linspace(0, 10 ** 7, 10 ** 5)\n",
    "values = Wt[t]"
   ]
  },
  {
   "cell_type": "markdown",
   "metadata": {
    "deletable": true,
    "editable": true
   },
   "source": [
    "Опишите подробно причину проблемы, которая в данном случае возникает."
   ]
  },
  {
   "cell_type": "markdown",
   "metadata": {
    "deletable": true,
    "editable": true
   },
   "source": [
    "..."
   ]
  },
  {
   "cell_type": "markdown",
   "metadata": {
    "deletable": true,
    "editable": true
   },
   "source": [
    "Для избавления от таких проблем реализуйте следующую функцию:"
   ]
  },
  {
   "cell_type": "code",
   "execution_count": null,
   "metadata": {
    "collapsed": true,
    "deletable": true,
    "editable": true
   },
   "outputs": [],
   "source": [
    "def winer_proccess_path(end_time, step, precision=10000):\n",
    "    # Моменты времени, в которые нужно вычислить значения\n",
    "    times = np.arange(0, end_time, step)\n",
    "    # Сюда запишите значения траектории в моменты времени times\n",
    "    values = np.zeros_like(times)\n",
    "    ...\n",
    "\n",
    "    return times, values"
   ]
  },
  {
   "cell_type": "markdown",
   "metadata": {
    "deletable": true,
    "editable": true
   },
   "source": [
    "Для получения полного балла и быстро работающего кода реализация должна содержать не более одного явного цикла (по отрезкам при непосредственной генерации). Вместо всех остальных циклов нужно использовать функции библиотеки `numpy`. Внутри этой функции можно реализовать вспомогательную функцию."
   ]
  },
  {
   "cell_type": "markdown",
   "metadata": {
    "deletable": true,
    "editable": true
   },
   "source": [
    "### 2. Исследования\n",
    "\n",
    "**Следующая часть работы делается в паре.**\n",
    "\n",
    "Для каждого их двух способов генерация траектрии винеровского процесса постройте таблицу $3 \\times 3$ из графиков траекторий винеровского процесса.\n",
    "По вертикали изменяйте количество $n$ используемых слагаемых в сумме ($n=10; 100; 1000$), по горизонтали --- длину отрезка, на котором генерируется винеровский процесс (использовать отрезки $[0, 10], [0, 1], [0, 0.1]$).\n",
    "Обратите внимание, что от размера сетки зависит только точность отображения функции на графике, а не сама функция, поэтому сетку нужно выбирать достаточно мелкой."
   ]
  },
  {
   "cell_type": "code",
   "execution_count": null,
   "metadata": {
    "collapsed": true,
    "deletable": true,
    "editable": true
   },
   "outputs": [],
   "source": [
    "plt.figure(figsize=(20, 12))\n",
    "for i, precision in enumerate([10, 100, 1000]):\n",
    "    for j, max_time in enumerate([10, 1, 0.1]):\n",
    "        t = np.linspace(0, max_time, 1000)\n",
    "        values = WinerProccess(precision=precision)[t]\n",
    "        \n",
    "        plt.subplot(3, 3, i * 3 + j + 1)\n",
    "        plt.plot(t, values)\n",
    "        plt.title('precision = %d' % precision)\n",
    "plt.show()"
   ]
  },
  {
   "cell_type": "markdown",
   "metadata": {
    "deletable": true,
    "editable": true
   },
   "source": [
    "Какие выводы можно сделать про каждый способ генерации?"
   ]
  },
  {
   "cell_type": "markdown",
   "metadata": {
    "deletable": true,
    "editable": true
   },
   "source": [
    "..."
   ]
  },
  {
   "cell_type": "markdown",
   "metadata": {
    "deletable": true,
    "editable": true
   },
   "source": [
    "Сравните два способа генерации по времени работы."
   ]
  },
  {
   "cell_type": "code",
   "execution_count": null,
   "metadata": {
    "collapsed": true,
    "deletable": true,
    "editable": true
   },
   "outputs": [],
   "source": [
    "%time times, values = winer_proccess_path(100000, 0.1)"
   ]
  },
  {
   "cell_type": "markdown",
   "metadata": {
    "deletable": true,
    "editable": true
   },
   "source": [
    "Постройте графики полученных траекторий для каждого способа? Отличаются ли траектории визуально?\n",
    "\n",
    "Какие можно сделать выводы из сравнения двух способов генерации?"
   ]
  },
  {
   "cell_type": "markdown",
   "metadata": {
    "deletable": true,
    "editable": true
   },
   "source": [
    "**Следующая часть работы делается индивидуально.**\n",
    "\n",
    "1. Сгенерируйте 100 траекторий винеровского процесса с достаточно хорошей точностью и нарисуйте их на одном графике? Что можно сказать про поведение траекторий?\n",
    "\n",
    "2. Нарисуйте график двумерного винеровского процесса (см. презентацию с семинара)."
   ]
  }
 ],
 "metadata": {
  "kernelspec": {
   "display_name": "Python 3",
   "language": "python",
   "name": "python3"
  },
  "language_info": {
   "codemirror_mode": {
    "name": "ipython",
    "version": 3
   },
   "file_extension": ".py",
   "mimetype": "text/x-python",
   "name": "python",
   "nbconvert_exporter": "python",
   "pygments_lexer": "ipython3",
   "version": "3.5.2"
  }
 },
 "nbformat": 4,
 "nbformat_minor": 0
}
