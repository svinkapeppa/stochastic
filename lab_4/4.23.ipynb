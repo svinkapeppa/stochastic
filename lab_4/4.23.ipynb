{
 "cells": [
  {
   "cell_type": "markdown",
   "metadata": {
    "deletable": true,
    "editable": true
   },
   "source": [
    "# Случайные процессы. Прикладной поток.\n",
    "## Практическое задание 4\n",
    "\n",
    "**Правила:**\n",
    "\n",
    "* Выполненную работу нужно отправить на почту `probability.diht@yandex.ru`, указав тему письма `\"[СП17] Фамилия Имя - Задание 4\"`. Квадратные скобки обязательны. Вместо `Фамилия Имя` нужно подставить свои фамилию и имя.\n",
    "* Прислать нужно ноутбук и его pdf-версию. Названия файлов должны быть такими: `4.N.ipynb` и `4.N.pdf`, где `N` - ваш номер из таблицы с оценками.\n",
    "* При проверке никакой код запускаться не будет.\n",
    "\n",
    "\n",
    "--------------\n",
    "\n",
    "Для выполнения задания потребуются следующие библиотеки: hmmlearn, librosa. Следующими командами можно их поставить (Ubuntu):\n",
    "\n",
    "sudo pip3 install hmmlearn\n",
    "\n",
    "sudo pip3 install librosa\n",
    "\n",
    "\n",
    "--------------"
   ]
  },
  {
   "cell_type": "markdown",
   "metadata": {
    "deletable": true,
    "editable": true
   },
   "source": [
    "### 1. Скрытые марковские модели (2 балла)\n",
    "\n",
    "Реализация методов является полезной, но технически сложной, поэтому мы воспользуемся готовой реализацией `hmmlearn`. Документация http://hmmlearn.readthedocs.io/. Интерфейс данной библиотеки максимально близок к библиотеке `scikit-learn`. \n",
    "\n",
    "Все необходимые комментарии по интерфейсу библиотеки `hmmlearn` приведены в коде далее. Следуйте указаниям."
   ]
  },
  {
   "cell_type": "code",
   "execution_count": 1,
   "metadata": {
    "collapsed": false,
    "deletable": true,
    "editable": true
   },
   "outputs": [
    {
     "ename": "ImportError",
     "evalue": "No module named 'hmmlearn'",
     "output_type": "error",
     "traceback": [
      "\u001b[0;31m---------------------------------------------------------------------------\u001b[0m",
      "\u001b[0;31mImportError\u001b[0m                               Traceback (most recent call last)",
      "\u001b[0;32m<ipython-input-1-2053f5b327f0>\u001b[0m in \u001b[0;36m<module>\u001b[0;34m()\u001b[0m\n\u001b[1;32m      1\u001b[0m \u001b[0;32mimport\u001b[0m \u001b[0mnumpy\u001b[0m \u001b[0;32mas\u001b[0m \u001b[0mnp\u001b[0m\u001b[0;34m\u001b[0m\u001b[0m\n\u001b[1;32m      2\u001b[0m \u001b[0;32mimport\u001b[0m \u001b[0msys\u001b[0m\u001b[0;34m\u001b[0m\u001b[0m\n\u001b[0;32m----> 3\u001b[0;31m \u001b[0;32mfrom\u001b[0m \u001b[0mhmmlearn\u001b[0m \u001b[0;32mimport\u001b[0m \u001b[0mhmm\u001b[0m\u001b[0;34m\u001b[0m\u001b[0m\n\u001b[0m\u001b[1;32m      4\u001b[0m \u001b[0;34m\u001b[0m\u001b[0m\n\u001b[1;32m      5\u001b[0m \u001b[0;32mimport\u001b[0m \u001b[0mmatplotlib\u001b[0m\u001b[0;34m.\u001b[0m\u001b[0mpyplot\u001b[0m \u001b[0;32mas\u001b[0m \u001b[0mplt\u001b[0m\u001b[0;34m\u001b[0m\u001b[0m\n",
      "\u001b[0;31mImportError\u001b[0m: No module named 'hmmlearn'"
     ]
    }
   ],
   "source": [
    "import numpy as np\n",
    "import sys\n",
    "from hmmlearn import hmm\n",
    "\n",
    "import matplotlib.pyplot as plt\n",
    "%matplotlib inline"
   ]
  },
  {
   "cell_type": "code",
   "execution_count": null,
   "metadata": {
    "collapsed": true,
    "deletable": true,
    "editable": true
   },
   "outputs": [],
   "source": [
    "# Если при использовании библиотеки будут появлятся различные warnings,\n",
    "# раскомментируйте и выполните следующий код\n",
    "# import warnings\n",
    "# warnings.filterwarnings(\"ignore\")"
   ]
  },
  {
   "cell_type": "markdown",
   "metadata": {
    "deletable": true,
    "editable": true
   },
   "source": [
    "Зададим некоторую скрытую марковскую модель"
   ]
  },
  {
   "cell_type": "code",
   "execution_count": null,
   "metadata": {
    "collapsed": true,
    "deletable": true,
    "editable": true
   },
   "outputs": [],
   "source": [
    "# Объявление скрытой марковской модели с двумя скрытыми состояниями, \n",
    "# в которой предполагается, каждое состояние может генерировать \n",
    "# гауссовский случайный вектор с произвольной матрицей ковариаций.\n",
    "# Используется метод Витерби.\n",
    "# Поставьте 'map', чтобы использовать метод forward-backward.\n",
    "model = hmm.GaussianHMM(n_components=2, covariance_type='full', \n",
    "                        algorithm='viterbi')\n",
    "\n",
    "# Параметры марковской цепи - начальное состояние и матрица переходных вероятностей\n",
    "model.startprob_ = np.array([0.6, 0.4])\n",
    "model.transmat_ = np.array([[0.9, 0.1],\n",
    "                            [0.07, 0.93]])\n",
    "\n",
    "# Параметры условных распределений Y_j при условии X_j - вектора средних и\n",
    "# матрица ковариаций по количеству состояний. Поскольку в данном случае\n",
    "# распределения одномерные, ниже записаны два вектора размерности 1\n",
    "# и две матрицы размерности 1x1\n",
    "model.means_ = np.array([[0.0], [3.0]])\n",
    "model.covars_ = np.array([[[1]], [[1]]])"
   ]
  },
  {
   "cell_type": "markdown",
   "metadata": {
    "deletable": true,
    "editable": true
   },
   "source": [
    "Сгенерируем некоторую последовательность с помощью определенной выше модели."
   ]
  },
  {
   "cell_type": "code",
   "execution_count": null,
   "metadata": {
    "collapsed": true,
    "deletable": true,
    "editable": true
   },
   "outputs": [],
   "source": [
    "size = 300\n",
    "Y, X = model.sample(size)  # Y наблюдаемы, X скрытые\n",
    "\n",
    "plt.figure(figsize=(15, 6))\n",
    "plt.plot(np.arange(size), Y[:, 0], color='black', alpha=0.1)\n",
    "plt.scatter(np.arange(size), Y[:, 0], c=np.array(X), lw=0, s=60, alpha=0.7)\n",
    "plt.xlim((0, size))\n",
    "plt.show()"
   ]
  },
  {
   "cell_type": "markdown",
   "metadata": {
    "deletable": true,
    "editable": true
   },
   "source": [
    "На основе сгенерированной выше последовательности оценим параметры (\"обучим\") скрытой марковской модели и значения скрытых состояний."
   ]
  },
  {
   "cell_type": "code",
   "execution_count": null,
   "metadata": {
    "collapsed": true,
    "deletable": true,
    "editable": true
   },
   "outputs": [],
   "source": [
    "# Объявление скрытой марковской модели, в которой при оценке параметров \n",
    "# будет производиться не более n_iter итераций EM-алгоритма.\n",
    "remodel = hmm.GaussianHMM(n_components=2, covariance_type=\"full\",\n",
    "                          n_iter=100, algorithm='viterbi')\n",
    "\n",
    "# Оценка параметров (\"обучение\")\n",
    "remodel.fit(Y)  \n",
    "\n",
    "# Оценка (\"предсказание\") значений скрытых состояний\n",
    "X_predicted = remodel.predict(Y)"
   ]
  },
  {
   "cell_type": "markdown",
   "metadata": {
    "deletable": true,
    "editable": true
   },
   "source": [
    "Теперь изобразим полученные результаты. На обоих графиках непрозразными маленькими кружочками отмечена исходная последовательность. Полупрозрачными большими кружочками отмечены оценки значений скрытых состояний. На первом графике отмечены все такие точки, на втором только те из них, оценка значения скрытого состояния получилась непрпавильно."
   ]
  },
  {
   "cell_type": "code",
   "execution_count": null,
   "metadata": {
    "collapsed": true,
    "deletable": true,
    "editable": true
   },
   "outputs": [],
   "source": [
    "colors = np.array(['blue', 'red'])\n",
    "\n",
    "# Состояния определяются с точностью до их перестановки.\n",
    "# При необходимости меняем местами состояния\n",
    "if (X != X_predicted).sum() > size / 2:\n",
    "    X_predicted = 1 - X_predicted\n",
    "\n",
    "plt.figure(figsize=(20, 8))\n",
    "plt.plot(np.arange(size), Y[:, 0], color='black', alpha=0.1)\n",
    "plt.scatter(np.arange(size), Y[:, 0], c=colors[np.array(X)], \n",
    "            lw=0, s=40, alpha=1)\n",
    "plt.scatter(np.arange(size), Y[:, 0], c=colors[np.array(X_predicted)], \n",
    "            lw=0, s=250, alpha=0.3)\n",
    "plt.xlim((0, size))\n",
    "plt.show()\n",
    "\n",
    "plt.figure(figsize=(20, 8))\n",
    "plt.plot(np.arange(size), Y[:, 0], color='black', alpha=0.1)\n",
    "plt.scatter(np.arange(size), Y[:, 0], c=colors[np.array(X)], \n",
    "            lw=0, s=40, alpha=1)\n",
    "plt.scatter(np.arange(size)[X != X_predicted], Y[:, 0][X != X_predicted], \n",
    "            c=colors[np.array(X_predicted)[X != X_predicted]], \n",
    "            lw=0, s=300, alpha=0.3)\n",
    "plt.xlim((0, size))\n",
    "plt.show()"
   ]
  },
  {
   "cell_type": "markdown",
   "metadata": {
    "deletable": true,
    "editable": true
   },
   "source": [
    "Как понять, что EM-алгоритм сошелся? Для этого нужно посчитать значение некоторого функционала (см. презентацию), который умеет считать библиотека `hmmlearn`, поэтому мы всего лишь посмотрим на его значения. Данная функциональность в библиотеке реализованна слишком странно. Следуйте комментариям."
   ]
  },
  {
   "cell_type": "code",
   "execution_count": null,
   "metadata": {
    "collapsed": true,
    "deletable": true,
    "editable": true
   },
   "outputs": [],
   "source": [
    "saved_strerr = sys.stderr  # сохраним в переменную поток вывода ошибок\n",
    "sys.stderr = open('est_values.txt', 'w')  # и перенаправим его в файл\n",
    "\n",
    "# ============\n",
    "# Для вывода значений функционала нужно поставить параметр verbose\n",
    "remodel = hmm.GaussianHMM(n_components=2, covariance_type=\"full\",\n",
    "                          n_iter=100, verbose=True)\n",
    "remodel.fit(Y)  \n",
    "X_predicted = remodel.predict(Y)\n",
    "# ============\n",
    "\n",
    "# Возвращаем все, как было\n",
    "sys.stderr = saved_strerr"
   ]
  },
  {
   "cell_type": "markdown",
   "metadata": {
    "deletable": true,
    "editable": true
   },
   "source": [
    "Теперь можно загрузить значения и построить график"
   ]
  },
  {
   "cell_type": "code",
   "execution_count": null,
   "metadata": {
    "collapsed": true,
    "deletable": true,
    "editable": true
   },
   "outputs": [],
   "source": [
    "values = np.loadtxt('./est_values.txt')\n",
    "\n",
    "plt.figure(figsize=(10, 4))\n",
    "plt.plot(values[:, 0], values[:, 1])\n",
    "plt.xlabel('iteration')\n",
    "plt.grid(ls=':')\n",
    "plt.show()"
   ]
  },
  {
   "cell_type": "markdown",
   "metadata": {
    "deletable": true,
    "editable": true
   },
   "source": [
    "Выполните те же операции для следующих двух случаев\n",
    "\n",
    "* скрытая марковская цепь имеет три скрытых состояния;\n",
    "\n",
    "* распределение $Y_j$ при условии $X_j$ является двумерным гауссовским."
   ]
  },
  {
   "cell_type": "code",
   "execution_count": null,
   "metadata": {
    "collapsed": true,
    "deletable": true,
    "editable": true
   },
   "outputs": [],
   "source": [
    "<Код с пояснениями, графики>"
   ]
  },
  {
   "cell_type": "markdown",
   "metadata": {
    "deletable": true,
    "editable": true
   },
   "source": [
    "<Выводы>"
   ]
  },
  {
   "cell_type": "markdown",
   "metadata": {
    "deletable": true,
    "editable": true
   },
   "source": [
    "Кроме гауссовского случая в библиотеке реализовано два других\n",
    "\n",
    "* `hmm.GMMHMM` --- распределение $Y_j$ при условии $X_j$ является смесью гауссовских распределений, \n",
    "* `hmm.MultinomialHMM` --- распределение $Y_j$ при условии $X_j$ является дискретным."
   ]
  },
  {
   "cell_type": "markdown",
   "metadata": {
    "deletable": true,
    "editable": true
   },
   "source": [
    "### 2. Музыка (предполагалось на семинаре, оцениваться не будет)\n",
    "\n",
    "Некоторый вспомогательный код."
   ]
  },
  {
   "cell_type": "code",
   "execution_count": null,
   "metadata": {
    "collapsed": true,
    "deletable": true,
    "editable": true
   },
   "outputs": [],
   "source": [
    "import librosa\n",
    "from IPython import display\n",
    "\n",
    "def Audio(url):\n",
    "    return display.HTML(\"<center><audio controls><source src='{}'\" +\n",
    "                        \"type=\\\"audio/wav\\\"></audio>\".format(url))"
   ]
  },
  {
   "cell_type": "markdown",
   "metadata": {
    "deletable": true,
    "editable": true
   },
   "source": [
    "Загрузите сюда некоторый музыкальный трек. Тут же вы его можете послушать."
   ]
  },
  {
   "cell_type": "code",
   "execution_count": null,
   "metadata": {
    "collapsed": true,
    "deletable": true,
    "editable": true
   },
   "outputs": [],
   "source": [
    "sound_file = \"./track.mp3\"\n",
    "Audio(url=sound_file)"
   ]
  },
  {
   "cell_type": "markdown",
   "metadata": {
    "deletable": true,
    "editable": true
   },
   "source": [
    "Изобразим графики амплитуды для разной sampling rate (sr)."
   ]
  },
  {
   "cell_type": "code",
   "execution_count": null,
   "metadata": {
    "collapsed": true,
    "deletable": true,
    "editable": true,
    "scrolled": true
   },
   "outputs": [],
   "source": [
    "for sr in [500, 1000, 5000, 10000]:\n",
    "    plt.figure(figsize=(20, 4))\n",
    "    y, sr = librosa.load(sound_file, sr=sr)\n",
    "    plt.plot(y[:1000000:10])\n",
    "    plt.ylabel(\"amplitude\")\n",
    "    plt.xlabel(\"time\")\n",
    "    plt.title('sampling rate = {}'.format(sr))\n",
    "    plt.show()"
   ]
  },
  {
   "cell_type": "markdown",
   "metadata": {
    "deletable": true,
    "editable": true
   },
   "source": [
    "Изобразим спектрограмму"
   ]
  },
  {
   "cell_type": "code",
   "execution_count": null,
   "metadata": {
    "collapsed": true,
    "deletable": true,
    "editable": true
   },
   "outputs": [],
   "source": [
    "sr = 1500\n",
    "\n",
    "# Если ваш ноутбук не справляется с чем-то, уменьшите параметр n_mels\n",
    "S = librosa.feature.melspectrogram(y, sr=sr, n_mels=30)\n",
    "log_S = librosa.logamplitude(S, ref_power=np.max)\n",
    "\n",
    "plt.figure(figsize=(20,4))\n",
    "librosa.display.specshow(log_S, sr=sr, x_axis='time', \n",
    "                         y_axis='mel', cmap='hot')\n",
    "plt.title('power spectrogram')\n",
    "plt.colorbar(format='%+02.0f dB')\n",
    "plt.tight_layout()"
   ]
  },
  {
   "cell_type": "markdown",
   "metadata": {
    "deletable": true,
    "editable": true
   },
   "source": [
    "Если выполнить операцию транспонирования, то мы получим некоторый многомерный случайный процесс. К нему уже можно применить скрытую марковскую модель."
   ]
  },
  {
   "cell_type": "code",
   "execution_count": null,
   "metadata": {
    "collapsed": true,
    "deletable": true,
    "editable": true
   },
   "outputs": [],
   "source": [
    "Y = log_S.T"
   ]
  },
  {
   "cell_type": "markdown",
   "metadata": {
    "deletable": true,
    "editable": true
   },
   "source": [
    "Соберите коллекцию музыкальных треков одного стиля или же одного исполнителя.\n",
    "\n",
    "**Варианты задания:**\n",
    "1. Объедините спектрограммы всех треков коллекции в одну большую спектрограмму и выполните на ней обучение скрытой марковской модели. Сколько итераций потребовалось EM-алгоритму для сходимости? Какие по смыслу состояния были обнаружены? Примените модель к новым трекам того же стиля.\n",
    "2. Вручную разбейте все треки на припев и все остальное, это будут скрытые состояния. Оцените вручную все параметры модели. Примените модель к новым трекам. Какое получается качество?"
   ]
  },
  {
   "cell_type": "markdown",
   "metadata": {
    "deletable": true,
    "editable": true
   },
   "source": [
    "### 3. Part-of-speach tagging (8 баллов)\n",
    "\n",
    "Теперь вам нужно самостоятельно реализовать метод распознавания частей речи для слов в предложении на основе скрытых марковских моделей. Метод реализовать можно с помощью библиотеки `hmmlearn`, но хранение разреженных матриц в в формате обычных матриц потребует большого количества памяти, поэтому на этот раз реализовать HMM придется самостоятельно. \n",
    "\n",
    "Будем считать, что каждый следующий тег непосредственно зависит только от двух предыдущих. Такая модель является марковской цепью, если в качестве состояний рассматривать все возможные пары тегов, причем матрица переходных вероятностей будет разреженной. Чтобы однозначно задать матрицу переходных вероятностей достаточно определить вероятности $\\mathsf{P}(X_3=tag_3 \\left| X_2=tag_2, X_1=tag_1\\right)$, в качестве которых возьмем их оценку максимального правдоподобия (см. семинар). Сделайте так же оценку вероятностей $\\mathsf{P}(Y_i=word \\left| X_i=tag\\right)$ для определения распределения слов для каждого тега.\n",
    "\n",
    "Для удобства реализации можно считать, что перед началом предложения и после конца предложения находится несколько \"пустых\" тегов.\n",
    "\n",
    "После того, как определена модель, нужно реализовать функцию, которая по заданному предложению для данной модели будет находить траекторию Витерби. Эта траектория и будет являться оценкой последовательности тегов для данного предложения. Посчитайте точность определения тегов на тестовом наборе данных.\n",
    "\n",
    "**Данные** возьмите такие же, как в примере с семинара.\n",
    "\n",
    "Сравните точность вашей модели с простой моделью, которая была показана на семинаре, а так же со следующими встроенными моделям:"
   ]
  },
  {
   "cell_type": "code",
   "execution_count": null,
   "metadata": {
    "collapsed": true,
    "deletable": true,
    "editable": true
   },
   "outputs": [],
   "source": [
    "unigram_tagger = nltk.UnigramTagger(train_sents)\n",
    "bigram_tagger = nltk.BigramTagger(train_sents)\n",
    "combined_bigram_tagger = nltk.BigramTagger(train_sents, backoff=unigram_tagger)"
   ]
  }
 ],
 "metadata": {
  "kernelspec": {
   "display_name": "Python 3",
   "language": "python",
   "name": "python3"
  },
  "language_info": {
   "codemirror_mode": {
    "name": "ipython",
    "version": 3
   },
   "file_extension": ".py",
   "mimetype": "text/x-python",
   "name": "python",
   "nbconvert_exporter": "python",
   "pygments_lexer": "ipython3",
   "version": "3.5.2"
  }
 },
 "nbformat": 4,
 "nbformat_minor": 1
}
